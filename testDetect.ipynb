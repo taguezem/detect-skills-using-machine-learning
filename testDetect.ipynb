{
  "nbformat": 4,
  "nbformat_minor": 0,
  "metadata": {
    "colab": {
      "name": "Copie de testDetect.ipynb",
      "provenance": [],
      "collapsed_sections": []
    },
    "kernelspec": {
      "name": "python3",
      "display_name": "Python 3"
    },
    "language_info": {
      "name": "python"
    }
  },
  "cells": [
    {
      "cell_type": "markdown",
      "source": [
        "\n",
        "\n",
        "1.   Load  Raw_Skills_Dataset\n",
        "\n"
      ],
      "metadata": {
        "id": "AoResM6rKjdk"
      }
    },
    {
      "cell_type": "code",
      "execution_count": null,
      "metadata": {
        "colab": {
          "base_uri": "https://localhost:8080/"
        },
        "id": "u8wcmzgtTFyL",
        "outputId": "06335e24-bcc4-42e5-f240-a423212169b9"
      },
      "outputs": [
        {
          "output_type": "stream",
          "name": "stdout",
          "text": [
            "                       Technology Skills\n",
            "0                    SAP Fiori Developer\n",
            "1  Oracle Instance Management & Strategy\n",
            "2           Boomi Master Data Management\n",
            "3  Digital Manufacturing on Cloud ( DMC)\n",
            "4                                 DevOps\n"
          ]
        }
      ],
      "source": [
        "import pandas as pd\n",
        "\n",
        "df1 = pd.read_csv('/content/data/Example_Technical_Skills.csv')\n",
        "\n",
        "print(df1.head().to_string())"
      ]
    },
    {
      "cell_type": "markdown",
      "source": [
        "Load Example_Technical_Skills"
      ],
      "metadata": {
        "id": "60ZR-9vFKiQL"
      }
    },
    {
      "cell_type": "code",
      "source": [
        "df = pd.read_csv('/content/data/Raw_Skills_Dataset.csv')\n",
        "df2 = pd.read_csv('/content/data/Raw_Skills_Dataset.csv')\n",
        "\n",
        "print(df.head(10).to_string())"
      ],
      "metadata": {
        "colab": {
          "base_uri": "https://localhost:8080/"
        },
        "id": "HUTHr6tfTv9_",
        "outputId": "7f24cdd9-7e85-47f9-bcbc-bd7a7081bbf9"
      },
      "execution_count": null,
      "outputs": [
        {
          "output_type": "stream",
          "name": "stdout",
          "text": [
            "                   RAW DATA\n",
            "0                  What ifs\n",
            "1                 seniority\n",
            "2               familiarity\n",
            "3           functionalities\n",
            "4                   Lambdas\n",
            "5              Java Streams\n",
            "6  Object Oriented analysis\n",
            "7      Relational Databases\n",
            "8                       SQL\n",
            "9                       ORM\n"
          ]
        }
      ]
    },
    {
      "cell_type": "markdown",
      "source": [
        "Install dependencies and Download needed files"
      ],
      "metadata": {
        "id": "4XyY7-GcK-Kk"
      }
    },
    {
      "cell_type": "code",
      "source": [
        "!pip install spacy==3.3\n",
        "!python -m spacy download en_core_web_sm\n",
        "!python -m spacy download en_core_web_lg\n",
        "!pip install pyLDAvis\n",
        "!pip install jsonlines"
      ],
      "metadata": {
        "id": "TPDot3eUNmA6",
        "outputId": "2dcc6658-bff0-4356-e2b7-19a8ac2cfa38",
        "colab": {
          "base_uri": "https://localhost:8080/"
        }
      },
      "execution_count": null,
      "outputs": [
        {
          "output_type": "stream",
          "name": "stdout",
          "text": [
            "Looking in indexes: https://pypi.org/simple, https://us-python.pkg.dev/colab-wheels/public/simple/\n",
            "Requirement already satisfied: spacy==3.3 in /usr/local/lib/python3.7/dist-packages (3.3.0)\n",
            "Requirement already satisfied: pydantic!=1.8,!=1.8.1,<1.9.0,>=1.7.4 in /usr/local/lib/python3.7/dist-packages (from spacy==3.3) (1.8.2)\n",
            "Requirement already satisfied: typer<0.5.0,>=0.3.0 in /usr/local/lib/python3.7/dist-packages (from spacy==3.3) (0.4.1)\n",
            "Requirement already satisfied: spacy-legacy<3.1.0,>=3.0.9 in /usr/local/lib/python3.7/dist-packages (from spacy==3.3) (3.0.9)\n",
            "Requirement already satisfied: jinja2 in /usr/local/lib/python3.7/dist-packages (from spacy==3.3) (2.11.3)\n",
            "Requirement already satisfied: langcodes<4.0.0,>=3.2.0 in /usr/local/lib/python3.7/dist-packages (from spacy==3.3) (3.3.0)\n",
            "Requirement already satisfied: cymem<2.1.0,>=2.0.2 in /usr/local/lib/python3.7/dist-packages (from spacy==3.3) (2.0.6)\n",
            "Requirement already satisfied: typing-extensions<4.0.0.0,>=3.7.4 in /usr/local/lib/python3.7/dist-packages (from spacy==3.3) (3.10.0.2)\n",
            "Requirement already satisfied: blis<0.8.0,>=0.4.0 in /usr/local/lib/python3.7/dist-packages (from spacy==3.3) (0.4.1)\n",
            "Requirement already satisfied: spacy-loggers<2.0.0,>=1.0.0 in /usr/local/lib/python3.7/dist-packages (from spacy==3.3) (1.0.2)\n",
            "Requirement already satisfied: wasabi<1.1.0,>=0.9.1 in /usr/local/lib/python3.7/dist-packages (from spacy==3.3) (0.9.1)\n",
            "Requirement already satisfied: setuptools in /usr/local/lib/python3.7/dist-packages (from spacy==3.3) (57.4.0)\n",
            "Requirement already satisfied: thinc<8.1.0,>=8.0.14 in /usr/local/lib/python3.7/dist-packages (from spacy==3.3) (8.0.16)\n",
            "Requirement already satisfied: murmurhash<1.1.0,>=0.28.0 in /usr/local/lib/python3.7/dist-packages (from spacy==3.3) (1.0.7)\n",
            "Requirement already satisfied: requests<3.0.0,>=2.13.0 in /usr/local/lib/python3.7/dist-packages (from spacy==3.3) (2.23.0)\n",
            "Requirement already satisfied: srsly<3.0.0,>=2.4.3 in /usr/local/lib/python3.7/dist-packages (from spacy==3.3) (2.4.3)\n",
            "Requirement already satisfied: pathy>=0.3.5 in /usr/local/lib/python3.7/dist-packages (from spacy==3.3) (0.6.1)\n",
            "Requirement already satisfied: catalogue<2.1.0,>=2.0.6 in /usr/local/lib/python3.7/dist-packages (from spacy==3.3) (2.0.7)\n",
            "Requirement already satisfied: tqdm<5.0.0,>=4.38.0 in /usr/local/lib/python3.7/dist-packages (from spacy==3.3) (4.64.0)\n",
            "Requirement already satisfied: preshed<3.1.0,>=3.0.2 in /usr/local/lib/python3.7/dist-packages (from spacy==3.3) (3.0.6)\n",
            "Requirement already satisfied: numpy>=1.15.0 in /usr/local/lib/python3.7/dist-packages (from spacy==3.3) (1.21.6)\n",
            "Requirement already satisfied: packaging>=20.0 in /usr/local/lib/python3.7/dist-packages (from spacy==3.3) (21.3)\n",
            "Requirement already satisfied: zipp>=0.5 in /usr/local/lib/python3.7/dist-packages (from catalogue<2.1.0,>=2.0.6->spacy==3.3) (3.8.0)\n",
            "Requirement already satisfied: pyparsing!=3.0.5,>=2.0.2 in /usr/local/lib/python3.7/dist-packages (from packaging>=20.0->spacy==3.3) (3.0.9)\n",
            "Requirement already satisfied: smart-open<6.0.0,>=5.0.0 in /usr/local/lib/python3.7/dist-packages (from pathy>=0.3.5->spacy==3.3) (5.2.1)\n",
            "Requirement already satisfied: chardet<4,>=3.0.2 in /usr/local/lib/python3.7/dist-packages (from requests<3.0.0,>=2.13.0->spacy==3.3) (3.0.4)\n",
            "Requirement already satisfied: urllib3!=1.25.0,!=1.25.1,<1.26,>=1.21.1 in /usr/local/lib/python3.7/dist-packages (from requests<3.0.0,>=2.13.0->spacy==3.3) (1.24.3)\n",
            "Requirement already satisfied: certifi>=2017.4.17 in /usr/local/lib/python3.7/dist-packages (from requests<3.0.0,>=2.13.0->spacy==3.3) (2022.5.18.1)\n",
            "Requirement already satisfied: idna<3,>=2.5 in /usr/local/lib/python3.7/dist-packages (from requests<3.0.0,>=2.13.0->spacy==3.3) (2.10)\n",
            "Requirement already satisfied: click<9.0.0,>=7.1.1 in /usr/local/lib/python3.7/dist-packages (from typer<0.5.0,>=0.3.0->spacy==3.3) (7.1.2)\n",
            "Requirement already satisfied: MarkupSafe>=0.23 in /usr/local/lib/python3.7/dist-packages (from jinja2->spacy==3.3) (2.0.1)\n",
            "Looking in indexes: https://pypi.org/simple, https://us-python.pkg.dev/colab-wheels/public/simple/\n",
            "Collecting en-core-web-sm==3.3.0\n",
            "  Downloading https://github.com/explosion/spacy-models/releases/download/en_core_web_sm-3.3.0/en_core_web_sm-3.3.0-py3-none-any.whl (12.8 MB)\n",
            "\u001b[K     |████████████████████████████████| 12.8 MB 5.5 MB/s \n",
            "\u001b[?25hRequirement already satisfied: spacy<3.4.0,>=3.3.0.dev0 in /usr/local/lib/python3.7/dist-packages (from en-core-web-sm==3.3.0) (3.3.0)\n",
            "Requirement already satisfied: thinc<8.1.0,>=8.0.14 in /usr/local/lib/python3.7/dist-packages (from spacy<3.4.0,>=3.3.0.dev0->en-core-web-sm==3.3.0) (8.0.16)\n",
            "Requirement already satisfied: packaging>=20.0 in /usr/local/lib/python3.7/dist-packages (from spacy<3.4.0,>=3.3.0.dev0->en-core-web-sm==3.3.0) (21.3)\n",
            "Requirement already satisfied: setuptools in /usr/local/lib/python3.7/dist-packages (from spacy<3.4.0,>=3.3.0.dev0->en-core-web-sm==3.3.0) (57.4.0)\n",
            "Requirement already satisfied: typer<0.5.0,>=0.3.0 in /usr/local/lib/python3.7/dist-packages (from spacy<3.4.0,>=3.3.0.dev0->en-core-web-sm==3.3.0) (0.4.1)\n",
            "Requirement already satisfied: wasabi<1.1.0,>=0.9.1 in /usr/local/lib/python3.7/dist-packages (from spacy<3.4.0,>=3.3.0.dev0->en-core-web-sm==3.3.0) (0.9.1)\n",
            "Requirement already satisfied: tqdm<5.0.0,>=4.38.0 in /usr/local/lib/python3.7/dist-packages (from spacy<3.4.0,>=3.3.0.dev0->en-core-web-sm==3.3.0) (4.64.0)\n",
            "Requirement already satisfied: jinja2 in /usr/local/lib/python3.7/dist-packages (from spacy<3.4.0,>=3.3.0.dev0->en-core-web-sm==3.3.0) (2.11.3)\n",
            "Requirement already satisfied: spacy-legacy<3.1.0,>=3.0.9 in /usr/local/lib/python3.7/dist-packages (from spacy<3.4.0,>=3.3.0.dev0->en-core-web-sm==3.3.0) (3.0.9)\n",
            "Requirement already satisfied: murmurhash<1.1.0,>=0.28.0 in /usr/local/lib/python3.7/dist-packages (from spacy<3.4.0,>=3.3.0.dev0->en-core-web-sm==3.3.0) (1.0.7)\n",
            "Requirement already satisfied: pydantic!=1.8,!=1.8.1,<1.9.0,>=1.7.4 in /usr/local/lib/python3.7/dist-packages (from spacy<3.4.0,>=3.3.0.dev0->en-core-web-sm==3.3.0) (1.8.2)\n",
            "Requirement already satisfied: preshed<3.1.0,>=3.0.2 in /usr/local/lib/python3.7/dist-packages (from spacy<3.4.0,>=3.3.0.dev0->en-core-web-sm==3.3.0) (3.0.6)\n",
            "Requirement already satisfied: catalogue<2.1.0,>=2.0.6 in /usr/local/lib/python3.7/dist-packages (from spacy<3.4.0,>=3.3.0.dev0->en-core-web-sm==3.3.0) (2.0.7)\n",
            "Requirement already satisfied: pathy>=0.3.5 in /usr/local/lib/python3.7/dist-packages (from spacy<3.4.0,>=3.3.0.dev0->en-core-web-sm==3.3.0) (0.6.1)\n",
            "Requirement already satisfied: blis<0.8.0,>=0.4.0 in /usr/local/lib/python3.7/dist-packages (from spacy<3.4.0,>=3.3.0.dev0->en-core-web-sm==3.3.0) (0.4.1)\n",
            "Requirement already satisfied: langcodes<4.0.0,>=3.2.0 in /usr/local/lib/python3.7/dist-packages (from spacy<3.4.0,>=3.3.0.dev0->en-core-web-sm==3.3.0) (3.3.0)\n",
            "Requirement already satisfied: spacy-loggers<2.0.0,>=1.0.0 in /usr/local/lib/python3.7/dist-packages (from spacy<3.4.0,>=3.3.0.dev0->en-core-web-sm==3.3.0) (1.0.2)\n",
            "Requirement already satisfied: srsly<3.0.0,>=2.4.3 in /usr/local/lib/python3.7/dist-packages (from spacy<3.4.0,>=3.3.0.dev0->en-core-web-sm==3.3.0) (2.4.3)\n",
            "Requirement already satisfied: typing-extensions<4.0.0.0,>=3.7.4 in /usr/local/lib/python3.7/dist-packages (from spacy<3.4.0,>=3.3.0.dev0->en-core-web-sm==3.3.0) (3.10.0.2)\n",
            "Requirement already satisfied: numpy>=1.15.0 in /usr/local/lib/python3.7/dist-packages (from spacy<3.4.0,>=3.3.0.dev0->en-core-web-sm==3.3.0) (1.21.6)\n",
            "Requirement already satisfied: cymem<2.1.0,>=2.0.2 in /usr/local/lib/python3.7/dist-packages (from spacy<3.4.0,>=3.3.0.dev0->en-core-web-sm==3.3.0) (2.0.6)\n",
            "Requirement already satisfied: requests<3.0.0,>=2.13.0 in /usr/local/lib/python3.7/dist-packages (from spacy<3.4.0,>=3.3.0.dev0->en-core-web-sm==3.3.0) (2.23.0)\n",
            "Requirement already satisfied: zipp>=0.5 in /usr/local/lib/python3.7/dist-packages (from catalogue<2.1.0,>=2.0.6->spacy<3.4.0,>=3.3.0.dev0->en-core-web-sm==3.3.0) (3.8.0)\n",
            "Requirement already satisfied: pyparsing!=3.0.5,>=2.0.2 in /usr/local/lib/python3.7/dist-packages (from packaging>=20.0->spacy<3.4.0,>=3.3.0.dev0->en-core-web-sm==3.3.0) (3.0.9)\n",
            "Requirement already satisfied: smart-open<6.0.0,>=5.0.0 in /usr/local/lib/python3.7/dist-packages (from pathy>=0.3.5->spacy<3.4.0,>=3.3.0.dev0->en-core-web-sm==3.3.0) (5.2.1)\n",
            "Requirement already satisfied: idna<3,>=2.5 in /usr/local/lib/python3.7/dist-packages (from requests<3.0.0,>=2.13.0->spacy<3.4.0,>=3.3.0.dev0->en-core-web-sm==3.3.0) (2.10)\n",
            "Requirement already satisfied: certifi>=2017.4.17 in /usr/local/lib/python3.7/dist-packages (from requests<3.0.0,>=2.13.0->spacy<3.4.0,>=3.3.0.dev0->en-core-web-sm==3.3.0) (2022.5.18.1)\n",
            "Requirement already satisfied: chardet<4,>=3.0.2 in /usr/local/lib/python3.7/dist-packages (from requests<3.0.0,>=2.13.0->spacy<3.4.0,>=3.3.0.dev0->en-core-web-sm==3.3.0) (3.0.4)\n",
            "Requirement already satisfied: urllib3!=1.25.0,!=1.25.1,<1.26,>=1.21.1 in /usr/local/lib/python3.7/dist-packages (from requests<3.0.0,>=2.13.0->spacy<3.4.0,>=3.3.0.dev0->en-core-web-sm==3.3.0) (1.24.3)\n",
            "Requirement already satisfied: click<9.0.0,>=7.1.1 in /usr/local/lib/python3.7/dist-packages (from typer<0.5.0,>=0.3.0->spacy<3.4.0,>=3.3.0.dev0->en-core-web-sm==3.3.0) (7.1.2)\n",
            "Requirement already satisfied: MarkupSafe>=0.23 in /usr/local/lib/python3.7/dist-packages (from jinja2->spacy<3.4.0,>=3.3.0.dev0->en-core-web-sm==3.3.0) (2.0.1)\n",
            "\u001b[38;5;2m✔ Download and installation successful\u001b[0m\n",
            "You can now load the package via spacy.load('en_core_web_sm')\n",
            "Looking in indexes: https://pypi.org/simple, https://us-python.pkg.dev/colab-wheels/public/simple/\n",
            "Collecting en-core-web-lg==3.3.0\n",
            "  Downloading https://github.com/explosion/spacy-models/releases/download/en_core_web_lg-3.3.0/en_core_web_lg-3.3.0-py3-none-any.whl (400.7 MB)\n",
            "\u001b[K     |████████████████████████████████| 400.7 MB 6.6 kB/s \n",
            "\u001b[?25hRequirement already satisfied: spacy<3.4.0,>=3.3.0.dev0 in /usr/local/lib/python3.7/dist-packages (from en-core-web-lg==3.3.0) (3.3.0)\n",
            "Requirement already satisfied: packaging>=20.0 in /usr/local/lib/python3.7/dist-packages (from spacy<3.4.0,>=3.3.0.dev0->en-core-web-lg==3.3.0) (21.3)\n",
            "Requirement already satisfied: thinc<8.1.0,>=8.0.14 in /usr/local/lib/python3.7/dist-packages (from spacy<3.4.0,>=3.3.0.dev0->en-core-web-lg==3.3.0) (8.0.16)\n",
            "Requirement already satisfied: spacy-legacy<3.1.0,>=3.0.9 in /usr/local/lib/python3.7/dist-packages (from spacy<3.4.0,>=3.3.0.dev0->en-core-web-lg==3.3.0) (3.0.9)\n",
            "Requirement already satisfied: pydantic!=1.8,!=1.8.1,<1.9.0,>=1.7.4 in /usr/local/lib/python3.7/dist-packages (from spacy<3.4.0,>=3.3.0.dev0->en-core-web-lg==3.3.0) (1.8.2)\n",
            "Requirement already satisfied: murmurhash<1.1.0,>=0.28.0 in /usr/local/lib/python3.7/dist-packages (from spacy<3.4.0,>=3.3.0.dev0->en-core-web-lg==3.3.0) (1.0.7)\n",
            "Requirement already satisfied: langcodes<4.0.0,>=3.2.0 in /usr/local/lib/python3.7/dist-packages (from spacy<3.4.0,>=3.3.0.dev0->en-core-web-lg==3.3.0) (3.3.0)\n",
            "Requirement already satisfied: pathy>=0.3.5 in /usr/local/lib/python3.7/dist-packages (from spacy<3.4.0,>=3.3.0.dev0->en-core-web-lg==3.3.0) (0.6.1)\n",
            "Requirement already satisfied: wasabi<1.1.0,>=0.9.1 in /usr/local/lib/python3.7/dist-packages (from spacy<3.4.0,>=3.3.0.dev0->en-core-web-lg==3.3.0) (0.9.1)\n",
            "Requirement already satisfied: catalogue<2.1.0,>=2.0.6 in /usr/local/lib/python3.7/dist-packages (from spacy<3.4.0,>=3.3.0.dev0->en-core-web-lg==3.3.0) (2.0.7)\n",
            "Requirement already satisfied: preshed<3.1.0,>=3.0.2 in /usr/local/lib/python3.7/dist-packages (from spacy<3.4.0,>=3.3.0.dev0->en-core-web-lg==3.3.0) (3.0.6)\n",
            "Requirement already satisfied: spacy-loggers<2.0.0,>=1.0.0 in /usr/local/lib/python3.7/dist-packages (from spacy<3.4.0,>=3.3.0.dev0->en-core-web-lg==3.3.0) (1.0.2)\n",
            "Requirement already satisfied: typer<0.5.0,>=0.3.0 in /usr/local/lib/python3.7/dist-packages (from spacy<3.4.0,>=3.3.0.dev0->en-core-web-lg==3.3.0) (0.4.1)\n",
            "Requirement already satisfied: jinja2 in /usr/local/lib/python3.7/dist-packages (from spacy<3.4.0,>=3.3.0.dev0->en-core-web-lg==3.3.0) (2.11.3)\n",
            "Requirement already satisfied: blis<0.8.0,>=0.4.0 in /usr/local/lib/python3.7/dist-packages (from spacy<3.4.0,>=3.3.0.dev0->en-core-web-lg==3.3.0) (0.4.1)\n",
            "Requirement already satisfied: srsly<3.0.0,>=2.4.3 in /usr/local/lib/python3.7/dist-packages (from spacy<3.4.0,>=3.3.0.dev0->en-core-web-lg==3.3.0) (2.4.3)\n",
            "Requirement already satisfied: setuptools in /usr/local/lib/python3.7/dist-packages (from spacy<3.4.0,>=3.3.0.dev0->en-core-web-lg==3.3.0) (57.4.0)\n",
            "Requirement already satisfied: requests<3.0.0,>=2.13.0 in /usr/local/lib/python3.7/dist-packages (from spacy<3.4.0,>=3.3.0.dev0->en-core-web-lg==3.3.0) (2.23.0)\n",
            "Requirement already satisfied: typing-extensions<4.0.0.0,>=3.7.4 in /usr/local/lib/python3.7/dist-packages (from spacy<3.4.0,>=3.3.0.dev0->en-core-web-lg==3.3.0) (3.10.0.2)\n",
            "Requirement already satisfied: cymem<2.1.0,>=2.0.2 in /usr/local/lib/python3.7/dist-packages (from spacy<3.4.0,>=3.3.0.dev0->en-core-web-lg==3.3.0) (2.0.6)\n",
            "Requirement already satisfied: numpy>=1.15.0 in /usr/local/lib/python3.7/dist-packages (from spacy<3.4.0,>=3.3.0.dev0->en-core-web-lg==3.3.0) (1.21.6)\n",
            "Requirement already satisfied: tqdm<5.0.0,>=4.38.0 in /usr/local/lib/python3.7/dist-packages (from spacy<3.4.0,>=3.3.0.dev0->en-core-web-lg==3.3.0) (4.64.0)\n",
            "Requirement already satisfied: zipp>=0.5 in /usr/local/lib/python3.7/dist-packages (from catalogue<2.1.0,>=2.0.6->spacy<3.4.0,>=3.3.0.dev0->en-core-web-lg==3.3.0) (3.8.0)\n",
            "Requirement already satisfied: pyparsing!=3.0.5,>=2.0.2 in /usr/local/lib/python3.7/dist-packages (from packaging>=20.0->spacy<3.4.0,>=3.3.0.dev0->en-core-web-lg==3.3.0) (3.0.9)\n",
            "Requirement already satisfied: smart-open<6.0.0,>=5.0.0 in /usr/local/lib/python3.7/dist-packages (from pathy>=0.3.5->spacy<3.4.0,>=3.3.0.dev0->en-core-web-lg==3.3.0) (5.2.1)\n",
            "Requirement already satisfied: idna<3,>=2.5 in /usr/local/lib/python3.7/dist-packages (from requests<3.0.0,>=2.13.0->spacy<3.4.0,>=3.3.0.dev0->en-core-web-lg==3.3.0) (2.10)\n",
            "Requirement already satisfied: chardet<4,>=3.0.2 in /usr/local/lib/python3.7/dist-packages (from requests<3.0.0,>=2.13.0->spacy<3.4.0,>=3.3.0.dev0->en-core-web-lg==3.3.0) (3.0.4)\n",
            "Requirement already satisfied: urllib3!=1.25.0,!=1.25.1,<1.26,>=1.21.1 in /usr/local/lib/python3.7/dist-packages (from requests<3.0.0,>=2.13.0->spacy<3.4.0,>=3.3.0.dev0->en-core-web-lg==3.3.0) (1.24.3)\n",
            "Requirement already satisfied: certifi>=2017.4.17 in /usr/local/lib/python3.7/dist-packages (from requests<3.0.0,>=2.13.0->spacy<3.4.0,>=3.3.0.dev0->en-core-web-lg==3.3.0) (2022.5.18.1)\n",
            "Requirement already satisfied: click<9.0.0,>=7.1.1 in /usr/local/lib/python3.7/dist-packages (from typer<0.5.0,>=0.3.0->spacy<3.4.0,>=3.3.0.dev0->en-core-web-lg==3.3.0) (7.1.2)\n",
            "Requirement already satisfied: MarkupSafe>=0.23 in /usr/local/lib/python3.7/dist-packages (from jinja2->spacy<3.4.0,>=3.3.0.dev0->en-core-web-lg==3.3.0) (2.0.1)\n",
            "\u001b[38;5;2m✔ Download and installation successful\u001b[0m\n",
            "You can now load the package via spacy.load('en_core_web_lg')\n",
            "Looking in indexes: https://pypi.org/simple, https://us-python.pkg.dev/colab-wheels/public/simple/\n",
            "Requirement already satisfied: pyLDAvis in /usr/local/lib/python3.7/dist-packages (3.3.1)\n",
            "Requirement already satisfied: joblib in /usr/local/lib/python3.7/dist-packages (from pyLDAvis) (1.1.0)\n",
            "Requirement already satisfied: pandas>=1.2.0 in /usr/local/lib/python3.7/dist-packages (from pyLDAvis) (1.3.5)\n",
            "Requirement already satisfied: scikit-learn in /usr/local/lib/python3.7/dist-packages (from pyLDAvis) (1.0.2)\n",
            "Requirement already satisfied: jinja2 in /usr/local/lib/python3.7/dist-packages (from pyLDAvis) (2.11.3)\n",
            "Requirement already satisfied: numexpr in /usr/local/lib/python3.7/dist-packages (from pyLDAvis) (2.8.1)\n",
            "Requirement already satisfied: funcy in /usr/local/lib/python3.7/dist-packages (from pyLDAvis) (1.17)\n",
            "Requirement already satisfied: numpy>=1.20.0 in /usr/local/lib/python3.7/dist-packages (from pyLDAvis) (1.21.6)\n",
            "Requirement already satisfied: gensim in /usr/local/lib/python3.7/dist-packages (from pyLDAvis) (3.6.0)\n",
            "Requirement already satisfied: setuptools in /usr/local/lib/python3.7/dist-packages (from pyLDAvis) (57.4.0)\n",
            "Requirement already satisfied: sklearn in /usr/local/lib/python3.7/dist-packages (from pyLDAvis) (0.0)\n",
            "Requirement already satisfied: scipy in /usr/local/lib/python3.7/dist-packages (from pyLDAvis) (1.4.1)\n",
            "Requirement already satisfied: future in /usr/local/lib/python3.7/dist-packages (from pyLDAvis) (0.16.0)\n",
            "Requirement already satisfied: pytz>=2017.3 in /usr/local/lib/python3.7/dist-packages (from pandas>=1.2.0->pyLDAvis) (2022.1)\n",
            "Requirement already satisfied: python-dateutil>=2.7.3 in /usr/local/lib/python3.7/dist-packages (from pandas>=1.2.0->pyLDAvis) (2.8.2)\n",
            "Requirement already satisfied: six>=1.5 in /usr/local/lib/python3.7/dist-packages (from python-dateutil>=2.7.3->pandas>=1.2.0->pyLDAvis) (1.15.0)\n",
            "Requirement already satisfied: smart-open>=1.2.1 in /usr/local/lib/python3.7/dist-packages (from gensim->pyLDAvis) (5.2.1)\n",
            "Requirement already satisfied: MarkupSafe>=0.23 in /usr/local/lib/python3.7/dist-packages (from jinja2->pyLDAvis) (2.0.1)\n",
            "Requirement already satisfied: packaging in /usr/local/lib/python3.7/dist-packages (from numexpr->pyLDAvis) (21.3)\n",
            "Requirement already satisfied: pyparsing!=3.0.5,>=2.0.2 in /usr/local/lib/python3.7/dist-packages (from packaging->numexpr->pyLDAvis) (3.0.9)\n",
            "Requirement already satisfied: threadpoolctl>=2.0.0 in /usr/local/lib/python3.7/dist-packages (from scikit-learn->pyLDAvis) (3.1.0)\n",
            "Looking in indexes: https://pypi.org/simple, https://us-python.pkg.dev/colab-wheels/public/simple/\n",
            "Requirement already satisfied: jsonlines in /usr/local/lib/python3.7/dist-packages (3.0.0)\n",
            "Requirement already satisfied: attrs>=19.2.0 in /usr/local/lib/python3.7/dist-packages (from jsonlines) (21.4.0)\n",
            "Requirement already satisfied: typing-extensions in /usr/local/lib/python3.7/dist-packages (from jsonlines) (3.10.0.2)\n"
          ]
        }
      ]
    },
    {
      "cell_type": "code",
      "source": [
        "#spacy a Natural Language Processing (NLP) libry\n",
        "import spacy\n",
        "from spacy.pipeline import EntityRuler #add our own Entity ruler\n",
        "from spacy.lang.en import English   #we are working in english\n",
        "from spacy.tokens import Doc  #Contains our text\n",
        "\n",
        "\n",
        "nlp = spacy.load(\"en_core_web_lg\")  #contains a large set of English words and \n",
        "                                    #for tokenisation\n",
        "\n",
        "\n",
        "import pandas as pd #Data loading/ Data manipulation\n",
        "import numpy as np\n",
        "\n",
        "#nltk another Natural Language Processing (NLP) libry\n",
        "import re\n",
        "import nltk\n",
        "from nltk.corpus import stopwords #it is not usefull for NLP Examples why, to, ...\n",
        "from nltk.stem import WordNetLemmatizer #creates existing lemmer\n",
        "nltk.download(['stopwords','wordnet']) #Downloading dictionary wordnet (for lemmer)\n",
        "                                        # and stopwords\n",
        "\n",
        "#warning\n",
        "import warnings\n",
        "warnings.filterwarnings('ignore')\n"
      ],
      "metadata": {
        "id": "kWGjdejNFrUe",
        "outputId": "7cb25138-a0f3-44b7-fff8-0fabf1ced1b9",
        "colab": {
          "base_uri": "https://localhost:8080/"
        }
      },
      "execution_count": null,
      "outputs": [
        {
          "output_type": "stream",
          "name": "stdout",
          "text": [
            "[nltk_data] Downloading package stopwords to /root/nltk_data...\n",
            "[nltk_data]   Package stopwords is already up-to-date!\n",
            "[nltk_data] Downloading package wordnet to /root/nltk_data...\n",
            "[nltk_data]   Package wordnet is already up-to-date!\n"
          ]
        }
      ]
    },
    {
      "cell_type": "code",
      "source": [
        "\n"
      ],
      "metadata": {
        "id": "SqOp-Sweewx8"
      },
      "execution_count": null,
      "outputs": []
    },
    {
      "cell_type": "markdown",
      "source": [
        "Loading **jz_skill_patterns.jsonl**, a libry containing skills"
      ],
      "metadata": {
        "id": "H682khmtM1UP"
      }
    },
    {
      "cell_type": "code",
      "source": [
        "skill_pattern_path = \"/content/data/jz_skill_patterns.jsonl\""
      ],
      "metadata": {
        "id": "_bdqF_WqkxZa"
      },
      "execution_count": null,
      "outputs": []
    },
    {
      "cell_type": "markdown",
      "source": [
        "Adding our custom Entity Ruler (jz_skill_patterns.jsonl) "
      ],
      "metadata": {
        "id": "60Bt18UvNQQh"
      }
    },
    {
      "cell_type": "code",
      "source": [
        "ruler = nlp.add_pipe(\"entity_ruler\")\n",
        "ruler.from_disk(skill_pattern_path)\n",
        "nlp.pipe_names"
      ],
      "metadata": {
        "id": "IQUPYzvzq7B6",
        "outputId": "5ae425f4-14f3-4ac4-edb4-15c7724829fb",
        "colab": {
          "base_uri": "https://localhost:8080/"
        }
      },
      "execution_count": null,
      "outputs": [
        {
          "output_type": "execute_result",
          "data": {
            "text/plain": [
              "['tok2vec',\n",
              " 'tagger',\n",
              " 'parser',\n",
              " 'attribute_ruler',\n",
              " 'lemmatizer',\n",
              " 'ner',\n",
              " 'entity_ruler']"
            ]
          },
          "metadata": {},
          "execution_count": 142
        }
      ]
    },
    {
      "cell_type": "markdown",
      "source": [
        "Preparing function for the Job. It will do Entity detection with skill detection, then we sellect only skills"
      ],
      "metadata": {
        "id": "G8Rr70MFNtj4"
      }
    },
    {
      "cell_type": "code",
      "source": [
        "lm = WordNetLemmatizer()\n",
        "def skills(text):\n",
        "    doc = nlp(text)\n",
        "    subset = []\n",
        "    for ent in doc.ents:\n",
        "        if ent.label_ == \"SKILL\":\n",
        "            subset.append(ent.text)\n",
        "    return subset\n",
        "\n",
        "\n",
        "def unique_skills(x):\n",
        "    return list(set(x))"
      ],
      "metadata": {
        "id": "ybfi31OVurU7"
      },
      "execution_count": null,
      "outputs": []
    },
    {
      "cell_type": "markdown",
      "source": [
        "Clean the Data to remove pontuations and stop words (english stop words) which will not help us here.\n",
        "\n",
        "We lemmatize because same skill can be written in diffrent forms"
      ],
      "metadata": {
        "id": "QwxO-N4QOK65"
      }
    },
    {
      "cell_type": "code",
      "source": [
        "df2[\"Clean_Text\"]=df[\"RAW DATA\"].str.lower()"
      ],
      "metadata": {
        "id": "29fqQdq5WCEk"
      },
      "execution_count": null,
      "outputs": []
    },
    {
      "cell_type": "code",
      "source": [
        "df2[\"Clean_Text\"] = df2[\"Clean_Text\"].apply(lambda x: re.sub(\n",
        "        '(@[A-Za-z0-9]+)|([^0-9A-Za-z \\t])|(\\w+:\\/\\/\\S+)|^rt|http.+?\"',\n",
        "        \" \",\n",
        "        x,\n",
        "    ).split())"
      ],
      "metadata": {
        "id": "Pfvwkv1SF2WX"
      },
      "execution_count": null,
      "outputs": []
    },
    {
      "cell_type": "code",
      "source": [
        "df2[\"Clean_Text\"] = df2[\"Clean_Text\"].apply(lambda x: ''.join([lm.lemmatize(word) for word in x if not word in stopwords.words(\"english\")]))"
      ],
      "metadata": {
        "id": "2q4Uh2z51j9a"
      },
      "execution_count": null,
      "outputs": []
    },
    {
      "cell_type": "markdown",
      "source": [
        "Know get the skills. Now we suppose one cell can contain more than one technical skill, so we use a list of skills"
      ],
      "metadata": {
        "id": "GtClk4ewOqcA"
      }
    },
    {
      "cell_type": "code",
      "source": [
        "df2[\"skills\"] = df2[\"Clean_Text\"].apply(skills)\n"
      ],
      "metadata": {
        "id": "qvw46-Oq2kg7"
      },
      "execution_count": null,
      "outputs": []
    },
    {
      "cell_type": "code",
      "source": [
        "df2[\"skills\"] = df2[\"skills\"].apply(lambda x: unique_skills(x))"
      ],
      "metadata": {
        "id": "_naRkkJU2wza"
      },
      "execution_count": null,
      "outputs": []
    },
    {
      "cell_type": "code",
      "source": [
        "df2['skills'] = df2['skills'].apply(lambda y: np.nan if len(y)==0 else y) #convert empty list to Na\n",
        "#Drop NAs to have only skills \n",
        "df2 = df2.dropna()"
      ],
      "metadata": {
        "id": "EPZhrLmADnEI"
      },
      "execution_count": null,
      "outputs": []
    },
    {
      "cell_type": "markdown",
      "source": [
        "here We can either take the original words (RAW_DATA to have the Exemple form) or use SKILLS column\n",
        "\n",
        "\n"
      ],
      "metadata": {
        "id": "pWRmgQcAQQTa"
      }
    },
    {
      "cell_type": "code",
      "source": [
        "#using SKILLS row\n",
        "Skills = df2['skills'].apply(lambda x: ' '.join(x)).unique().tolist()"
      ],
      "metadata": {
        "id": "5ejiucu01aGp"
      },
      "execution_count": null,
      "outputs": []
    },
    {
      "cell_type": "code",
      "source": [
        "#Using RAW_DATA row\n",
        "Skills1 = list(df2['Clean_Text'].unique())"
      ],
      "metadata": {
        "id": "nFNWf8uVS-Nr"
      },
      "execution_count": null,
      "outputs": []
    },
    {
      "cell_type": "code",
      "source": [
        "Skills2 = list(df2['Clean_Text'].unique())"
      ],
      "metadata": {
        "id": "zKkGElBTbPzP"
      },
      "execution_count": null,
      "outputs": []
    },
    {
      "cell_type": "code",
      "source": [
        "Skills"
      ],
      "metadata": {
        "colab": {
          "base_uri": "https://localhost:8080/"
        },
        "id": "qlijJWI1ToO8",
        "outputId": "b33ab724-5bb0-4e2a-d2e2-a517f5e49e80"
      },
      "execution_count": null,
      "outputs": [
        {
          "output_type": "execute_result",
          "data": {
            "text/plain": [
              "['hibernate',\n",
              " 'maven',\n",
              " 'bamboo',\n",
              " 'framework',\n",
              " 'python',\n",
              " 'mysql',\n",
              " 'oracle',\n",
              " 'celery',\n",
              " 'azure',\n",
              " 'grpc',\n",
              " 'docker',\n",
              " 'kubernetes',\n",
              " 'vault',\n",
              " 'database',\n",
              " 'github',\n",
              " 'ruby',\n",
              " 'javascript',\n",
              " 'algorithm',\n",
              " 'angular',\n",
              " 'meteor',\n",
              " 'ember',\n",
              " 'bootstrap',\n",
              " 'typescript',\n",
              " 'redux',\n",
              " 'heap',\n",
              " 'mongodb',\n",
              " 'jasmine',\n",
              " 'karma',\n",
              " 'protractor',\n",
              " 'junit',\n",
              " 'django',\n",
              " 'flask',\n",
              " 'tensorflow',\n",
              " 'deployment',\n",
              " 'queue',\n",
              " 'concurrency',\n",
              " 'specification',\n",
              " 'shell',\n",
              " 'git',\n",
              " 'xamarin',\n",
              " 'devops',\n",
              " 'sqlite',\n",
              " 'documentation',\n",
              " 'elasticsearch',\n",
              " 'numpy',\n",
              " 'pytorch',\n",
              " 'debugging',\n",
              " 'openshift',\n",
              " 'bitbucket',\n",
              " 'postgresql',\n",
              " 'linux',\n",
              " 'sinatra',\n",
              " 'beanstalk',\n",
              " 'rabbitmq',\n",
              " 'rspec',\n",
              " 'jest',\n",
              " 'elixir',\n",
              " 'graphql',\n",
              " 'prometheus',\n",
              " 'mocha',\n",
              " 'grafana',\n",
              " 'stackdriver',\n",
              " 'scalability',\n",
              " 'workflow',\n",
              " 'certificate',\n",
              " 'fastlane',\n",
              " 'analytics',\n",
              " 'lua',\n",
              " 'ansible',\n",
              " 'gulp',\n",
              " 'gradle',\n",
              " 'ethereum',\n",
              " 'webpack',\n",
              " 'schedule',\n",
              " 'bash',\n",
              " 'syntax',\n",
              " 'hbase',\n",
              " 'confluence',\n",
              " 'cucumber',\n",
              " 'airflow',\n",
              " 'groovy',\n",
              " 'gitlab',\n",
              " 'middleware',\n",
              " 'helm',\n",
              " 'datadog',\n",
              " 'selenium',\n",
              " 'npm',\n",
              " 'metadata',\n",
              " 'encryption',\n",
              " 'appium',\n",
              " 'firefox',\n",
              " 'rust',\n",
              " 'fluentd',\n",
              " 'throughput',\n",
              " 'durability',\n",
              " 'ambiguity',\n",
              " 'expressjs',\n",
              " 'istio',\n",
              " 'relay',\n",
              " 'gatsby',\n",
              " 'nuxt',\n",
              " 'angularui',\n",
              " 'vuex',\n",
              " 'flux',\n",
              " 'babel',\n",
              " 'heroku',\n",
              " 'workload',\n",
              " 'sonar',\n",
              " 'authentication',\n",
              " 'snowflake',\n",
              " 'nlp',\n",
              " 'macos',\n",
              " 'consul',\n",
              " 'perl',\n",
              " 'sonarqube',\n",
              " 'cryptography',\n",
              " 'twilio',\n",
              " 'markdown',\n",
              " 'cryptocurrency',\n",
              " 'postman',\n",
              " 'figma',\n",
              " 'invision',\n",
              " 'ajax',\n",
              " 'serverless',\n",
              " 'ethernet',\n",
              " 'simulation',\n",
              " 'qt',\n",
              " 'parcel',\n",
              " 'grunt',\n",
              " 'bower',\n",
              " 'nginx',\n",
              " 'electron',\n",
              " 'microprocessor',\n",
              " 'apigee',\n",
              " 'optimizely',\n",
              " 'visualization',\n",
              " 'phantomjs',\n",
              " 'amplitude',\n",
              " 'composer',\n",
              " 'concourse',\n",
              " 'ecommerce',\n",
              " 'rancher',\n",
              " 'memcached',\n",
              " 'zookeeper',\n",
              " 'symfony',\n",
              " 'mariadb',\n",
              " 'vim',\n",
              " 'circleci',\n",
              " 'eclipse',\n",
              " 'chrome',\n",
              " 'jupyter',\n",
              " 'flutter',\n",
              " 'nativescript',\n",
              " 'slack',\n",
              " 'xcode',\n",
              " 'neo4j',\n",
              " 'activemq',\n",
              " 'devise',\n",
              " 'phaser',\n",
              " 'presto',\n",
              " 'diagram',\n",
              " 'drupal',\n",
              " 'design',\n",
              " 'bot',\n",
              " 'shopify',\n",
              " 'collaboration',\n",
              " 'uikit',\n",
              " 'trello',\n",
              " 'actuator',\n",
              " 'compiler',\n",
              " 'woocommerce',\n",
              " 'graphite',\n",
              " 'aerospike',\n",
              " 'varnish',\n",
              " 'mailgun',\n",
              " 'blockchain',\n",
              " 'opencv',\n",
              " 'redmine',\n",
              " 'localization',\n",
              " 'comprehension',\n",
              " 'shippable',\n",
              " 'enzyme',\n",
              " 'postgis',\n",
              " 'computation',\n",
              " 'opengl',\n",
              " 'asana',\n",
              " 'crashlytics',\n",
              " 'mapbox',\n",
              " 'scanner',\n",
              " 'solr',\n",
              " 'ubuntu',\n",
              " 'fedora',\n",
              " 'sequelize',\n",
              " 'software',\n",
              " 'java']"
            ]
          },
          "metadata": {},
          "execution_count": 171
        }
      ]
    },
    {
      "cell_type": "code",
      "source": [
        "Skills1"
      ],
      "metadata": {
        "colab": {
          "base_uri": "https://localhost:8080/"
        },
        "id": "x9uyyfw8TYB-",
        "outputId": "9fb38147-f8ec-4040-a738-ef00ea8c1ad9"
      },
      "execution_count": null,
      "outputs": [
        {
          "output_type": "execute_result",
          "data": {
            "text/plain": [
              "['hibernate',\n",
              " 'maven',\n",
              " 'bamboo',\n",
              " 'framework',\n",
              " 'python',\n",
              " 'mysql',\n",
              " 'oracle',\n",
              " 'celery',\n",
              " 'azure',\n",
              " 'grpc',\n",
              " 'docker',\n",
              " 'kubernetes',\n",
              " 'vault',\n",
              " 'database',\n",
              " 'github',\n",
              " 'ruby',\n",
              " 'javascript',\n",
              " 'algorithm',\n",
              " 'angular',\n",
              " 'meteor',\n",
              " 'ember',\n",
              " 'bootstrap',\n",
              " 'typescript',\n",
              " 'redux',\n",
              " 'heap',\n",
              " 'mongodb',\n",
              " 'jasmine',\n",
              " 'karma',\n",
              " 'protractor',\n",
              " 'junit',\n",
              " 'django',\n",
              " 'flask',\n",
              " 'tensorflow',\n",
              " 'deployment',\n",
              " 'queue',\n",
              " 'concurrency',\n",
              " 'specification',\n",
              " 'shell',\n",
              " 'git',\n",
              " 'xamarin',\n",
              " 'devops',\n",
              " 'sqlite',\n",
              " 'documentation',\n",
              " 'elasticsearch',\n",
              " 'numpy',\n",
              " 'pytorch',\n",
              " 'debugging',\n",
              " 'openshift',\n",
              " 'bitbucket',\n",
              " 'postgresql',\n",
              " 'linux',\n",
              " 'sinatra',\n",
              " 'beanstalk',\n",
              " 'rabbitmq',\n",
              " 'rspec',\n",
              " 'jest',\n",
              " 'elixir',\n",
              " 'graphql',\n",
              " 'prometheus',\n",
              " 'mocha',\n",
              " 'grafana',\n",
              " 'stackdriver',\n",
              " 'scalability',\n",
              " 'workflow',\n",
              " 'certificate',\n",
              " 'fastlane',\n",
              " 'analytics',\n",
              " 'lua',\n",
              " 'ansible',\n",
              " 'gulp',\n",
              " 'gradle',\n",
              " 'ethereum',\n",
              " 'webpack',\n",
              " 'schedule',\n",
              " 'bash',\n",
              " 'syntax',\n",
              " 'hbase',\n",
              " 'confluence',\n",
              " 'cucumber',\n",
              " 'airflow',\n",
              " 'groovy',\n",
              " 'gitlab',\n",
              " 'middleware',\n",
              " 'helm',\n",
              " 'datadog',\n",
              " 'selenium',\n",
              " 'npm',\n",
              " 'metadata',\n",
              " 'encryption',\n",
              " 'appium',\n",
              " 'firefox',\n",
              " 'rust',\n",
              " 'fluentd',\n",
              " 'throughput',\n",
              " 'durability',\n",
              " 'ambiguity',\n",
              " 'expressjs',\n",
              " 'istio',\n",
              " 'relay',\n",
              " 'gatsby',\n",
              " 'nuxt',\n",
              " 'angularui',\n",
              " 'vuex',\n",
              " 'flux',\n",
              " 'babel',\n",
              " 'heroku',\n",
              " 'workload',\n",
              " 'sonar',\n",
              " 'authentication',\n",
              " 'snowflake',\n",
              " 'nlp',\n",
              " 'macos',\n",
              " 'consul',\n",
              " 'perl',\n",
              " 'sonarqube',\n",
              " 'cryptography',\n",
              " 'twilio',\n",
              " 'markdown',\n",
              " 'cryptocurrency',\n",
              " 'postman',\n",
              " 'figma',\n",
              " 'invision',\n",
              " 'ajax',\n",
              " 'serverless',\n",
              " 'ethernet',\n",
              " 'simulation',\n",
              " 'qt',\n",
              " 'parcel',\n",
              " 'grunt',\n",
              " 'bower',\n",
              " 'nginx',\n",
              " 'electron',\n",
              " 'microprocessor',\n",
              " 'apigee',\n",
              " 'optimizely',\n",
              " 'visualization',\n",
              " 'phantomjs',\n",
              " 'amplitude',\n",
              " 'composer',\n",
              " 'concourse',\n",
              " 'ecommerce',\n",
              " 'rancher',\n",
              " 'memcached',\n",
              " 'zookeeper',\n",
              " 'symfony',\n",
              " 'mariadb',\n",
              " 'vim',\n",
              " 'circleci',\n",
              " 'eclipse',\n",
              " 'chrome',\n",
              " 'jupyter',\n",
              " 'flutter',\n",
              " 'nativescript',\n",
              " 'slack',\n",
              " 'xcode',\n",
              " 'neo4j',\n",
              " 'activemq',\n",
              " 'devise',\n",
              " 'phaser',\n",
              " 'presto',\n",
              " 'diagram',\n",
              " 'drupal',\n",
              " 'design',\n",
              " 'bot',\n",
              " 'shopify',\n",
              " 'collaboration',\n",
              " 'uikit',\n",
              " 'trello',\n",
              " 'actuator',\n",
              " 'compiler',\n",
              " 'woocommerce',\n",
              " 'graphite',\n",
              " 'aerospike',\n",
              " 'varnish',\n",
              " 'mailgun',\n",
              " 'blockchain',\n",
              " 'opencv',\n",
              " 'redmine',\n",
              " 'localization',\n",
              " 'comprehension',\n",
              " 'shippable',\n",
              " 'enzyme',\n",
              " 'postgis',\n",
              " 'computation',\n",
              " 'opengl',\n",
              " 'asana',\n",
              " 'crashlytics',\n",
              " 'mapbox',\n",
              " 'scanner',\n",
              " 'solr',\n",
              " 'ubuntu',\n",
              " 'fedora',\n",
              " 'sequelize',\n",
              " 'software',\n",
              " 'java']"
            ]
          },
          "metadata": {},
          "execution_count": 169
        }
      ]
    },
    {
      "cell_type": "code",
      "source": [
        "df2.head(20)"
      ],
      "metadata": {
        "colab": {
          "base_uri": "https://localhost:8080/",
          "height": 676
        },
        "id": "QPfKAesnvkeI",
        "outputId": "ad0e6260-f079-4a20-fd04-1499ee3af10c"
      },
      "execution_count": null,
      "outputs": [
        {
          "output_type": "execute_result",
          "data": {
            "text/plain": [
              "       RAW DATA  Clean_Text        skills\n",
              "11    Hibernate   hibernate   [hibernate]\n",
              "13    Hibernate   hibernate   [hibernate]\n",
              "16        Maven       maven       [maven]\n",
              "21       bamboo      bamboo      [bamboo]\n",
              "23   frameworks   framework   [framework]\n",
              "55       Python      python      [python]\n",
              "62        MySQL       mysql       [mysql]\n",
              "63       Oracle      oracle      [oracle]\n",
              "70       Celery      celery      [celery]\n",
              "77        Azure       azure       [azure]\n",
              "89         grpc        grpc        [grpc]\n",
              "92       docker      docker      [docker]\n",
              "93   kubernetes  kubernetes  [kubernetes]\n",
              "98        vault       vault       [vault]\n",
              "101   databases    database    [database]\n",
              "111      Github      github      [github]\n",
              "117        Ruby        ruby        [ruby]\n",
              "132        grpc        grpc        [grpc]\n",
              "135      docker      docker      [docker]\n",
              "136  kubernetes  kubernetes  [kubernetes]"
            ],
            "text/html": [
              "\n",
              "  <div id=\"df-4b10a4b0-15a6-42df-a98d-bf5d4c64cbe3\">\n",
              "    <div class=\"colab-df-container\">\n",
              "      <div>\n",
              "<style scoped>\n",
              "    .dataframe tbody tr th:only-of-type {\n",
              "        vertical-align: middle;\n",
              "    }\n",
              "\n",
              "    .dataframe tbody tr th {\n",
              "        vertical-align: top;\n",
              "    }\n",
              "\n",
              "    .dataframe thead th {\n",
              "        text-align: right;\n",
              "    }\n",
              "</style>\n",
              "<table border=\"1\" class=\"dataframe\">\n",
              "  <thead>\n",
              "    <tr style=\"text-align: right;\">\n",
              "      <th></th>\n",
              "      <th>RAW DATA</th>\n",
              "      <th>Clean_Text</th>\n",
              "      <th>skills</th>\n",
              "    </tr>\n",
              "  </thead>\n",
              "  <tbody>\n",
              "    <tr>\n",
              "      <th>11</th>\n",
              "      <td>Hibernate</td>\n",
              "      <td>hibernate</td>\n",
              "      <td>[hibernate]</td>\n",
              "    </tr>\n",
              "    <tr>\n",
              "      <th>13</th>\n",
              "      <td>Hibernate</td>\n",
              "      <td>hibernate</td>\n",
              "      <td>[hibernate]</td>\n",
              "    </tr>\n",
              "    <tr>\n",
              "      <th>16</th>\n",
              "      <td>Maven</td>\n",
              "      <td>maven</td>\n",
              "      <td>[maven]</td>\n",
              "    </tr>\n",
              "    <tr>\n",
              "      <th>21</th>\n",
              "      <td>bamboo</td>\n",
              "      <td>bamboo</td>\n",
              "      <td>[bamboo]</td>\n",
              "    </tr>\n",
              "    <tr>\n",
              "      <th>23</th>\n",
              "      <td>frameworks</td>\n",
              "      <td>framework</td>\n",
              "      <td>[framework]</td>\n",
              "    </tr>\n",
              "    <tr>\n",
              "      <th>55</th>\n",
              "      <td>Python</td>\n",
              "      <td>python</td>\n",
              "      <td>[python]</td>\n",
              "    </tr>\n",
              "    <tr>\n",
              "      <th>62</th>\n",
              "      <td>MySQL</td>\n",
              "      <td>mysql</td>\n",
              "      <td>[mysql]</td>\n",
              "    </tr>\n",
              "    <tr>\n",
              "      <th>63</th>\n",
              "      <td>Oracle</td>\n",
              "      <td>oracle</td>\n",
              "      <td>[oracle]</td>\n",
              "    </tr>\n",
              "    <tr>\n",
              "      <th>70</th>\n",
              "      <td>Celery</td>\n",
              "      <td>celery</td>\n",
              "      <td>[celery]</td>\n",
              "    </tr>\n",
              "    <tr>\n",
              "      <th>77</th>\n",
              "      <td>Azure</td>\n",
              "      <td>azure</td>\n",
              "      <td>[azure]</td>\n",
              "    </tr>\n",
              "    <tr>\n",
              "      <th>89</th>\n",
              "      <td>grpc</td>\n",
              "      <td>grpc</td>\n",
              "      <td>[grpc]</td>\n",
              "    </tr>\n",
              "    <tr>\n",
              "      <th>92</th>\n",
              "      <td>docker</td>\n",
              "      <td>docker</td>\n",
              "      <td>[docker]</td>\n",
              "    </tr>\n",
              "    <tr>\n",
              "      <th>93</th>\n",
              "      <td>kubernetes</td>\n",
              "      <td>kubernetes</td>\n",
              "      <td>[kubernetes]</td>\n",
              "    </tr>\n",
              "    <tr>\n",
              "      <th>98</th>\n",
              "      <td>vault</td>\n",
              "      <td>vault</td>\n",
              "      <td>[vault]</td>\n",
              "    </tr>\n",
              "    <tr>\n",
              "      <th>101</th>\n",
              "      <td>databases</td>\n",
              "      <td>database</td>\n",
              "      <td>[database]</td>\n",
              "    </tr>\n",
              "    <tr>\n",
              "      <th>111</th>\n",
              "      <td>Github</td>\n",
              "      <td>github</td>\n",
              "      <td>[github]</td>\n",
              "    </tr>\n",
              "    <tr>\n",
              "      <th>117</th>\n",
              "      <td>Ruby</td>\n",
              "      <td>ruby</td>\n",
              "      <td>[ruby]</td>\n",
              "    </tr>\n",
              "    <tr>\n",
              "      <th>132</th>\n",
              "      <td>grpc</td>\n",
              "      <td>grpc</td>\n",
              "      <td>[grpc]</td>\n",
              "    </tr>\n",
              "    <tr>\n",
              "      <th>135</th>\n",
              "      <td>docker</td>\n",
              "      <td>docker</td>\n",
              "      <td>[docker]</td>\n",
              "    </tr>\n",
              "    <tr>\n",
              "      <th>136</th>\n",
              "      <td>kubernetes</td>\n",
              "      <td>kubernetes</td>\n",
              "      <td>[kubernetes]</td>\n",
              "    </tr>\n",
              "  </tbody>\n",
              "</table>\n",
              "</div>\n",
              "      <button class=\"colab-df-convert\" onclick=\"convertToInteractive('df-4b10a4b0-15a6-42df-a98d-bf5d4c64cbe3')\"\n",
              "              title=\"Convert this dataframe to an interactive table.\"\n",
              "              style=\"display:none;\">\n",
              "        \n",
              "  <svg xmlns=\"http://www.w3.org/2000/svg\" height=\"24px\"viewBox=\"0 0 24 24\"\n",
              "       width=\"24px\">\n",
              "    <path d=\"M0 0h24v24H0V0z\" fill=\"none\"/>\n",
              "    <path d=\"M18.56 5.44l.94 2.06.94-2.06 2.06-.94-2.06-.94-.94-2.06-.94 2.06-2.06.94zm-11 1L8.5 8.5l.94-2.06 2.06-.94-2.06-.94L8.5 2.5l-.94 2.06-2.06.94zm10 10l.94 2.06.94-2.06 2.06-.94-2.06-.94-.94-2.06-.94 2.06-2.06.94z\"/><path d=\"M17.41 7.96l-1.37-1.37c-.4-.4-.92-.59-1.43-.59-.52 0-1.04.2-1.43.59L10.3 9.45l-7.72 7.72c-.78.78-.78 2.05 0 2.83L4 21.41c.39.39.9.59 1.41.59.51 0 1.02-.2 1.41-.59l7.78-7.78 2.81-2.81c.8-.78.8-2.07 0-2.86zM5.41 20L4 18.59l7.72-7.72 1.47 1.35L5.41 20z\"/>\n",
              "  </svg>\n",
              "      </button>\n",
              "      \n",
              "  <style>\n",
              "    .colab-df-container {\n",
              "      display:flex;\n",
              "      flex-wrap:wrap;\n",
              "      gap: 12px;\n",
              "    }\n",
              "\n",
              "    .colab-df-convert {\n",
              "      background-color: #E8F0FE;\n",
              "      border: none;\n",
              "      border-radius: 50%;\n",
              "      cursor: pointer;\n",
              "      display: none;\n",
              "      fill: #1967D2;\n",
              "      height: 32px;\n",
              "      padding: 0 0 0 0;\n",
              "      width: 32px;\n",
              "    }\n",
              "\n",
              "    .colab-df-convert:hover {\n",
              "      background-color: #E2EBFA;\n",
              "      box-shadow: 0px 1px 2px rgba(60, 64, 67, 0.3), 0px 1px 3px 1px rgba(60, 64, 67, 0.15);\n",
              "      fill: #174EA6;\n",
              "    }\n",
              "\n",
              "    [theme=dark] .colab-df-convert {\n",
              "      background-color: #3B4455;\n",
              "      fill: #D2E3FC;\n",
              "    }\n",
              "\n",
              "    [theme=dark] .colab-df-convert:hover {\n",
              "      background-color: #434B5C;\n",
              "      box-shadow: 0px 1px 3px 1px rgba(0, 0, 0, 0.15);\n",
              "      filter: drop-shadow(0px 1px 2px rgba(0, 0, 0, 0.3));\n",
              "      fill: #FFFFFF;\n",
              "    }\n",
              "  </style>\n",
              "\n",
              "      <script>\n",
              "        const buttonEl =\n",
              "          document.querySelector('#df-4b10a4b0-15a6-42df-a98d-bf5d4c64cbe3 button.colab-df-convert');\n",
              "        buttonEl.style.display =\n",
              "          google.colab.kernel.accessAllowed ? 'block' : 'none';\n",
              "\n",
              "        async function convertToInteractive(key) {\n",
              "          const element = document.querySelector('#df-4b10a4b0-15a6-42df-a98d-bf5d4c64cbe3');\n",
              "          const dataTable =\n",
              "            await google.colab.kernel.invokeFunction('convertToInteractive',\n",
              "                                                     [key], {});\n",
              "          if (!dataTable) return;\n",
              "\n",
              "          const docLinkHtml = 'Like what you see? Visit the ' +\n",
              "            '<a target=\"_blank\" href=https://colab.research.google.com/notebooks/data_table.ipynb>data table notebook</a>'\n",
              "            + ' to learn more about interactive tables.';\n",
              "          element.innerHTML = '';\n",
              "          dataTable['output_type'] = 'display_data';\n",
              "          await google.colab.output.renderOutput(dataTable, element);\n",
              "          const docLink = document.createElement('div');\n",
              "          docLink.innerHTML = docLinkHtml;\n",
              "          element.appendChild(docLink);\n",
              "        }\n",
              "      </script>\n",
              "    </div>\n",
              "  </div>\n",
              "  "
            ]
          },
          "metadata": {},
          "execution_count": 154
        }
      ]
    }
  ]
}