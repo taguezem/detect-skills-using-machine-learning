{
  "cells": [
    {
      "cell_type": "markdown",
      "metadata": {
        "id": "AoResM6rKjdk"
      },
      "source": [
        "\n",
        "\n",
        "1.   Load  Raw_Skills_Dataset\n",
        "\n"
      ]
    },
    {
      "cell_type": "code",
      "execution_count": 33,
      "metadata": {
        "colab": {
          "base_uri": "https://localhost:8080/"
        },
        "id": "u8wcmzgtTFyL",
        "outputId": "06335e24-bcc4-42e5-f240-a423212169b9"
      },
      "outputs": [
        {
          "data": {
            "text/html": [
              "<div>\n",
              "<style scoped>\n",
              "    .dataframe tbody tr th:only-of-type {\n",
              "        vertical-align: middle;\n",
              "    }\n",
              "\n",
              "    .dataframe tbody tr th {\n",
              "        vertical-align: top;\n",
              "    }\n",
              "\n",
              "    .dataframe thead th {\n",
              "        text-align: right;\n",
              "    }\n",
              "</style>\n",
              "<table border=\"1\" class=\"dataframe\">\n",
              "  <thead>\n",
              "    <tr style=\"text-align: right;\">\n",
              "      <th></th>\n",
              "      <th>Technology Skills</th>\n",
              "    </tr>\n",
              "  </thead>\n",
              "  <tbody>\n",
              "    <tr>\n",
              "      <th>0</th>\n",
              "      <td>SAP Fiori Developer</td>\n",
              "    </tr>\n",
              "    <tr>\n",
              "      <th>1</th>\n",
              "      <td>Oracle Instance Management &amp; Strategy</td>\n",
              "    </tr>\n",
              "    <tr>\n",
              "      <th>2</th>\n",
              "      <td>Boomi Master Data Management</td>\n",
              "    </tr>\n",
              "    <tr>\n",
              "      <th>3</th>\n",
              "      <td>Digital Manufacturing on Cloud ( DMC)</td>\n",
              "    </tr>\n",
              "    <tr>\n",
              "      <th>4</th>\n",
              "      <td>DevOps</td>\n",
              "    </tr>\n",
              "    <tr>\n",
              "      <th>5</th>\n",
              "      <td>CA SAM</td>\n",
              "    </tr>\n",
              "    <tr>\n",
              "      <th>6</th>\n",
              "      <td>OpenShift</td>\n",
              "    </tr>\n",
              "    <tr>\n",
              "      <th>7</th>\n",
              "      <td>Acxiom Data Analytics</td>\n",
              "    </tr>\n",
              "    <tr>\n",
              "      <th>8</th>\n",
              "      <td>SAP Digital Boardroom</td>\n",
              "    </tr>\n",
              "    <tr>\n",
              "      <th>9</th>\n",
              "      <td>Seeburger BIS</td>\n",
              "    </tr>\n",
              "    <tr>\n",
              "      <th>10</th>\n",
              "      <td>SAP Transport Management</td>\n",
              "    </tr>\n",
              "    <tr>\n",
              "      <th>11</th>\n",
              "      <td>PeopleSoft Workflow</td>\n",
              "    </tr>\n",
              "    <tr>\n",
              "      <th>12</th>\n",
              "      <td>NICE Actimize</td>\n",
              "    </tr>\n",
              "    <tr>\n",
              "      <th>13</th>\n",
              "      <td>Oracle - Access Manager</td>\n",
              "    </tr>\n",
              "    <tr>\n",
              "      <th>14</th>\n",
              "      <td>SAP Electronic Data Interchange (EDI)</td>\n",
              "    </tr>\n",
              "    <tr>\n",
              "      <th>15</th>\n",
              "      <td>Ideas crowdsourcing</td>\n",
              "    </tr>\n",
              "    <tr>\n",
              "      <th>16</th>\n",
              "      <td>PeopleSoft Workforce Planning</td>\n",
              "    </tr>\n",
              "    <tr>\n",
              "      <th>17</th>\n",
              "      <td>SAP Benefits</td>\n",
              "    </tr>\n",
              "    <tr>\n",
              "      <th>18</th>\n",
              "      <td>ONESOURCE R&amp;D Credit Manager</td>\n",
              "    </tr>\n",
              "    <tr>\n",
              "      <th>19</th>\n",
              "      <td>SAP Consignment</td>\n",
              "    </tr>\n",
              "  </tbody>\n",
              "</table>\n",
              "</div>"
            ],
            "text/plain": [
              "                        Technology Skills\n",
              "0                     SAP Fiori Developer\n",
              "1   Oracle Instance Management & Strategy\n",
              "2            Boomi Master Data Management\n",
              "3   Digital Manufacturing on Cloud ( DMC)\n",
              "4                                  DevOps\n",
              "5                                  CA SAM\n",
              "6                               OpenShift\n",
              "7                   Acxiom Data Analytics\n",
              "8                   SAP Digital Boardroom\n",
              "9                           Seeburger BIS\n",
              "10               SAP Transport Management\n",
              "11                    PeopleSoft Workflow\n",
              "12                          NICE Actimize\n",
              "13                Oracle - Access Manager\n",
              "14  SAP Electronic Data Interchange (EDI)\n",
              "15                    Ideas crowdsourcing\n",
              "16          PeopleSoft Workforce Planning\n",
              "17                           SAP Benefits\n",
              "18           ONESOURCE R&D Credit Manager\n",
              "19                        SAP Consignment"
            ]
          },
          "execution_count": 33,
          "metadata": {},
          "output_type": "execute_result"
        }
      ],
      "source": [
        "import pandas as pd\n",
        "\n",
        "df1 = pd.read_csv('data/Example_Technical_Skills.csv')\n",
        "\n",
        "df1.head(20)"
      ]
    },
    {
      "cell_type": "markdown",
      "metadata": {
        "id": "60ZR-9vFKiQL"
      },
      "source": [
        "Load Example_Technical_Skills"
      ]
    },
    {
      "cell_type": "code",
      "execution_count": 2,
      "metadata": {
        "colab": {
          "base_uri": "https://localhost:8080/"
        },
        "id": "HUTHr6tfTv9_",
        "outputId": "7f24cdd9-7e85-47f9-bcbc-bd7a7081bbf9"
      },
      "outputs": [
        {
          "name": "stdout",
          "output_type": "stream",
          "text": [
            "                   RAW DATA\n",
            "0                  What ifs\n",
            "1                 seniority\n",
            "2               familiarity\n",
            "3           functionalities\n",
            "4                   Lambdas\n",
            "5              Java Streams\n",
            "6  Object Oriented analysis\n",
            "7      Relational Databases\n",
            "8                       SQL\n",
            "9                       ORM\n"
          ]
        }
      ],
      "source": [
        "df = pd.read_csv('data/Raw_Skills_Dataset.csv')\n",
        "df2 = pd.read_csv('data/Raw_Skills_Dataset.csv')\n",
        "\n"
      ]
    },
    {
      "cell_type": "code",
      "execution_count": 34,
      "metadata": {},
      "outputs": [
        {
          "data": {
            "text/html": [
              "<div>\n",
              "<style scoped>\n",
              "    .dataframe tbody tr th:only-of-type {\n",
              "        vertical-align: middle;\n",
              "    }\n",
              "\n",
              "    .dataframe tbody tr th {\n",
              "        vertical-align: top;\n",
              "    }\n",
              "\n",
              "    .dataframe thead th {\n",
              "        text-align: right;\n",
              "    }\n",
              "</style>\n",
              "<table border=\"1\" class=\"dataframe\">\n",
              "  <thead>\n",
              "    <tr style=\"text-align: right;\">\n",
              "      <th></th>\n",
              "      <th>RAW DATA</th>\n",
              "    </tr>\n",
              "  </thead>\n",
              "  <tbody>\n",
              "    <tr>\n",
              "      <th>0</th>\n",
              "      <td>What ifs</td>\n",
              "    </tr>\n",
              "    <tr>\n",
              "      <th>1</th>\n",
              "      <td>seniority</td>\n",
              "    </tr>\n",
              "    <tr>\n",
              "      <th>2</th>\n",
              "      <td>familiarity</td>\n",
              "    </tr>\n",
              "    <tr>\n",
              "      <th>3</th>\n",
              "      <td>functionalities</td>\n",
              "    </tr>\n",
              "    <tr>\n",
              "      <th>4</th>\n",
              "      <td>Lambdas</td>\n",
              "    </tr>\n",
              "    <tr>\n",
              "      <th>5</th>\n",
              "      <td>Java Streams</td>\n",
              "    </tr>\n",
              "    <tr>\n",
              "      <th>6</th>\n",
              "      <td>Object Oriented analysis</td>\n",
              "    </tr>\n",
              "    <tr>\n",
              "      <th>7</th>\n",
              "      <td>Relational Databases</td>\n",
              "    </tr>\n",
              "    <tr>\n",
              "      <th>8</th>\n",
              "      <td>SQL</td>\n",
              "    </tr>\n",
              "    <tr>\n",
              "      <th>9</th>\n",
              "      <td>ORM</td>\n",
              "    </tr>\n",
              "  </tbody>\n",
              "</table>\n",
              "</div>"
            ],
            "text/plain": [
              "                   RAW DATA\n",
              "0                  What ifs\n",
              "1                 seniority\n",
              "2               familiarity\n",
              "3           functionalities\n",
              "4                   Lambdas\n",
              "5              Java Streams\n",
              "6  Object Oriented analysis\n",
              "7      Relational Databases\n",
              "8                       SQL\n",
              "9                       ORM"
            ]
          },
          "execution_count": 34,
          "metadata": {},
          "output_type": "execute_result"
        }
      ],
      "source": [
        "df.head(10)"
      ]
    },
    {
      "cell_type": "markdown",
      "metadata": {
        "id": "4XyY7-GcK-Kk"
      },
      "source": [
        "Install dependencies and Download needed files"
      ]
    },
    {
      "cell_type": "code",
      "execution_count": null,
      "metadata": {
        "colab": {
          "base_uri": "https://localhost:8080/"
        },
        "id": "TPDot3eUNmA6",
        "outputId": "2dcc6658-bff0-4356-e2b7-19a8ac2cfa38"
      },
      "outputs": [],
      "source": [
        "!pip install spacy==3.3\n",
        "#!python -m spacy download en_core_web_sm\n",
        "#!python -m spacy download en_core_web_lg\n"
      ]
    },
    {
      "cell_type": "code",
      "execution_count": 17,
      "metadata": {
        "colab": {
          "base_uri": "https://localhost:8080/"
        },
        "id": "kWGjdejNFrUe",
        "outputId": "7cb25138-a0f3-44b7-fff8-0fabf1ced1b9"
      },
      "outputs": [
        {
          "name": "stderr",
          "output_type": "stream",
          "text": [
            "[nltk_data] Downloading package stopwords to\n",
            "[nltk_data]     C:\\Users\\boris\\AppData\\Roaming\\nltk_data...\n",
            "[nltk_data]   Package stopwords is already up-to-date!\n",
            "[nltk_data] Downloading package wordnet to\n",
            "[nltk_data]     C:\\Users\\boris\\AppData\\Roaming\\nltk_data...\n",
            "[nltk_data]   Package wordnet is already up-to-date!\n"
          ]
        }
      ],
      "source": [
        "#spacy a Natural Language Processing (NLP) libry\n",
        "import spacy\n",
        "from spacy.pipeline import EntityRuler #add our own Entity ruler\n",
        "from spacy.lang.en import English   #we are working in english\n",
        "from spacy.tokens import Doc  #Contains our text\n",
        "\n",
        "\n",
        "nlp = spacy.load(\"en_core_web_lg\")  #contains a large set of English words and \n",
        "                                    #for tokenisation\n",
        "\n",
        "\n",
        "import pandas as pd #Data loading/ Data manipulation\n",
        "import numpy as np\n",
        "\n",
        "#nltk another Natural Language Processing (NLP) libry\n",
        "import re\n",
        "import nltk\n",
        "from nltk.corpus import stopwords #it is not usefull for NLP Examples why, to, ...\n",
        "from nltk.stem import WordNetLemmatizer #creates existing lemmer\n",
        "nltk.download(['stopwords','wordnet']) #Downloading dictionary wordnet (for lemmer)\n",
        "                                        # and stopwords\n",
        "\n",
        "#warning\n",
        "import warnings\n",
        "warnings.filterwarnings('ignore')\n"
      ]
    },
    {
      "cell_type": "code",
      "execution_count": null,
      "metadata": {
        "id": "SqOp-Sweewx8"
      },
      "outputs": [],
      "source": [
        "\n"
      ]
    },
    {
      "cell_type": "markdown",
      "metadata": {
        "id": "H682khmtM1UP"
      },
      "source": [
        "Loading **jz_skill_patterns.jsonl**, a libry containing skills"
      ]
    },
    {
      "cell_type": "code",
      "execution_count": 15,
      "metadata": {
        "id": "_bdqF_WqkxZa"
      },
      "outputs": [],
      "source": [
        "skill_pattern_path = \"data/jz_skill_patterns.jsonl\""
      ]
    },
    {
      "cell_type": "markdown",
      "metadata": {
        "id": "60Bt18UvNQQh"
      },
      "source": [
        "Adding our custom Entity Ruler (jz_skill_patterns.jsonl) "
      ]
    },
    {
      "cell_type": "code",
      "execution_count": 18,
      "metadata": {
        "colab": {
          "base_uri": "https://localhost:8080/"
        },
        "id": "IQUPYzvzq7B6",
        "outputId": "5ae425f4-14f3-4ac4-edb4-15c7724829fb"
      },
      "outputs": [
        {
          "data": {
            "text/plain": [
              "['tok2vec',\n",
              " 'tagger',\n",
              " 'parser',\n",
              " 'attribute_ruler',\n",
              " 'lemmatizer',\n",
              " 'ner',\n",
              " 'entity_ruler']"
            ]
          },
          "execution_count": 18,
          "metadata": {},
          "output_type": "execute_result"
        }
      ],
      "source": [
        "ruler = nlp.add_pipe(\"entity_ruler\")\n",
        "ruler.from_disk(skill_pattern_path)\n",
        "nlp.pipe_names"
      ]
    },
    {
      "cell_type": "markdown",
      "metadata": {
        "id": "G8Rr70MFNtj4"
      },
      "source": [
        "Preparing function for the Job. It will do Entity detection with skill detection, then we sellect only skills"
      ]
    },
    {
      "cell_type": "code",
      "execution_count": 19,
      "metadata": {
        "id": "ybfi31OVurU7"
      },
      "outputs": [],
      "source": [
        "lm = WordNetLemmatizer()\n",
        "def skills(text):\n",
        "    doc = nlp(text)\n",
        "    subset = []\n",
        "    for ent in doc.ents:\n",
        "        if ent.label_ == \"SKILL\":\n",
        "            subset.append(ent.text)\n",
        "    return subset\n",
        "\n",
        "\n",
        "def unique_skills(x):\n",
        "    return list(set(x))"
      ]
    },
    {
      "cell_type": "markdown",
      "metadata": {
        "id": "QwxO-N4QOK65"
      },
      "source": [
        "Clean the Data to remove pontuations and stop words (english stop words) which will not help us here.\n",
        "\n",
        "We lemmatize because same skill can be written in diffrent forms"
      ]
    },
    {
      "cell_type": "code",
      "execution_count": 20,
      "metadata": {
        "id": "29fqQdq5WCEk"
      },
      "outputs": [],
      "source": [
        "df2[\"Clean_Text\"]=df[\"RAW DATA\"].str.lower()"
      ]
    },
    {
      "cell_type": "code",
      "execution_count": 21,
      "metadata": {
        "id": "Pfvwkv1SF2WX"
      },
      "outputs": [],
      "source": [
        "df2[\"Clean_Text\"] = df2[\"Clean_Text\"].apply(lambda x: re.sub(\n",
        "        '(@[A-Za-z0-9]+)|([^0-9A-Za-z \\t])|(\\w+:\\/\\/\\S+)|^rt|http.+?\"',\n",
        "        \" \",\n",
        "        x,\n",
        "    ).split())"
      ]
    },
    {
      "cell_type": "code",
      "execution_count": 23,
      "metadata": {},
      "outputs": [
        {
          "name": "stderr",
          "output_type": "stream",
          "text": [
            "[nltk_data] Downloading package omw-1.4 to\n",
            "[nltk_data]     C:\\Users\\boris\\AppData\\Roaming\\nltk_data...\n",
            "[nltk_data]   Unzipping corpora\\omw-1.4.zip.\n"
          ]
        },
        {
          "data": {
            "text/plain": [
              "True"
            ]
          },
          "execution_count": 23,
          "metadata": {},
          "output_type": "execute_result"
        }
      ],
      "source": [
        "nltk.download('omw-1.4')"
      ]
    },
    {
      "cell_type": "code",
      "execution_count": 24,
      "metadata": {
        "id": "2q4Uh2z51j9a"
      },
      "outputs": [],
      "source": [
        "df2[\"Clean_Text\"] = df2[\"Clean_Text\"].apply(lambda x: ''.join([lm.lemmatize(word) for word in x if not word in stopwords.words(\"english\")]))"
      ]
    },
    {
      "cell_type": "markdown",
      "metadata": {
        "id": "GtClk4ewOqcA"
      },
      "source": [
        "Know get the skills. Now we suppose one cell can contain more than one technical skill, so we use a list of skills"
      ]
    },
    {
      "cell_type": "code",
      "execution_count": 25,
      "metadata": {
        "id": "qvw46-Oq2kg7"
      },
      "outputs": [],
      "source": [
        "df2[\"skills\"] = df2[\"Clean_Text\"].apply(skills)\n"
      ]
    },
    {
      "cell_type": "code",
      "execution_count": 26,
      "metadata": {
        "id": "_naRkkJU2wza"
      },
      "outputs": [],
      "source": [
        "df2[\"skills\"] = df2[\"skills\"].apply(lambda x: unique_skills(x))"
      ]
    },
    {
      "cell_type": "code",
      "execution_count": 27,
      "metadata": {
        "id": "EPZhrLmADnEI"
      },
      "outputs": [],
      "source": [
        "df2['skills'] = df2['skills'].apply(lambda y: np.nan if len(y)==0 else y) #convert empty list to Na\n",
        "#Drop NAs to have only skills \n",
        "df2 = df2.dropna()"
      ]
    },
    {
      "cell_type": "markdown",
      "metadata": {
        "id": "pWRmgQcAQQTa"
      },
      "source": [
        "here We can either take the original words (RAW_DATA to have the Exemple form) or use SKILLS column\n",
        "\n",
        "\n"
      ]
    },
    {
      "cell_type": "code",
      "execution_count": 28,
      "metadata": {
        "id": "5ejiucu01aGp"
      },
      "outputs": [],
      "source": [
        "#using SKILLS row\n",
        "Skills = df2['skills'].apply(lambda x: ' '.join(x)).unique().tolist()"
      ]
    },
    {
      "cell_type": "code",
      "execution_count": 29,
      "metadata": {
        "id": "nFNWf8uVS-Nr"
      },
      "outputs": [],
      "source": [
        "#Using RAW_DATA row\n",
        "Skills1 = list(df2['Clean_Text'].unique())"
      ]
    },
    {
      "cell_type": "code",
      "execution_count": 30,
      "metadata": {
        "id": "zKkGElBTbPzP"
      },
      "outputs": [],
      "source": [
        "Skills2 = list(df2['Clean_Text'].unique())"
      ]
    },
    {
      "cell_type": "code",
      "execution_count": 31,
      "metadata": {
        "colab": {
          "base_uri": "https://localhost:8080/"
        },
        "id": "qlijJWI1ToO8",
        "outputId": "b33ab724-5bb0-4e2a-d2e2-a517f5e49e80"
      },
      "outputs": [
        {
          "data": {
            "text/plain": [
              "['hibernate',\n",
              " 'maven',\n",
              " 'bamboo',\n",
              " 'framework',\n",
              " 'python',\n",
              " 'mysql',\n",
              " 'oracle',\n",
              " 'celery',\n",
              " 'azure',\n",
              " 'grpc',\n",
              " 'docker',\n",
              " 'kubernetes',\n",
              " 'vault',\n",
              " 'database',\n",
              " 'github',\n",
              " 'ruby',\n",
              " 'javascript',\n",
              " 'algorithm',\n",
              " 'angular',\n",
              " 'meteor',\n",
              " 'ember',\n",
              " 'bootstrap',\n",
              " 'typescript',\n",
              " 'redux',\n",
              " 'heap',\n",
              " 'mongodb',\n",
              " 'jasmine',\n",
              " 'karma',\n",
              " 'protractor',\n",
              " 'junit',\n",
              " 'django',\n",
              " 'flask',\n",
              " 'tensorflow',\n",
              " 'deployment',\n",
              " 'queue',\n",
              " 'concurrency',\n",
              " 'specification',\n",
              " 'shell',\n",
              " 'git',\n",
              " 'xamarin',\n",
              " 'devops',\n",
              " 'sqlite',\n",
              " 'documentation',\n",
              " 'elasticsearch',\n",
              " 'numpy',\n",
              " 'pytorch',\n",
              " 'debugging',\n",
              " 'openshift',\n",
              " 'bitbucket',\n",
              " 'postgresql',\n",
              " 'linux',\n",
              " 'sinatra',\n",
              " 'beanstalk',\n",
              " 'rabbitmq',\n",
              " 'rspec',\n",
              " 'jest',\n",
              " 'elixir',\n",
              " 'graphql',\n",
              " 'prometheus',\n",
              " 'mocha',\n",
              " 'grafana',\n",
              " 'stackdriver',\n",
              " 'scalability',\n",
              " 'workflow',\n",
              " 'certificate',\n",
              " 'fastlane',\n",
              " 'analytics',\n",
              " 'lua',\n",
              " 'ansible',\n",
              " 'gulp',\n",
              " 'gradle',\n",
              " 'ethereum',\n",
              " 'webpack',\n",
              " 'schedule',\n",
              " 'bash',\n",
              " 'syntax',\n",
              " 'hbase',\n",
              " 'confluence',\n",
              " 'cucumber',\n",
              " 'airflow',\n",
              " 'groovy',\n",
              " 'gitlab',\n",
              " 'middleware',\n",
              " 'helm',\n",
              " 'datadog',\n",
              " 'selenium',\n",
              " 'npm',\n",
              " 'metadata',\n",
              " 'encryption',\n",
              " 'appium',\n",
              " 'firefox',\n",
              " 'rust',\n",
              " 'fluentd',\n",
              " 'throughput',\n",
              " 'durability',\n",
              " 'ambiguity',\n",
              " 'expressjs',\n",
              " 'istio',\n",
              " 'relay',\n",
              " 'gatsby',\n",
              " 'nuxt',\n",
              " 'angularui',\n",
              " 'vuex',\n",
              " 'flux',\n",
              " 'babel',\n",
              " 'heroku',\n",
              " 'workload',\n",
              " 'sonar',\n",
              " 'authentication',\n",
              " 'snowflake',\n",
              " 'nlp',\n",
              " 'macos',\n",
              " 'consul',\n",
              " 'perl',\n",
              " 'sonarqube',\n",
              " 'cryptography',\n",
              " 'twilio',\n",
              " 'markdown',\n",
              " 'cryptocurrency',\n",
              " 'postman',\n",
              " 'figma',\n",
              " 'invision',\n",
              " 'ajax',\n",
              " 'serverless',\n",
              " 'ethernet',\n",
              " 'simulation',\n",
              " 'qt',\n",
              " 'parcel',\n",
              " 'grunt',\n",
              " 'bower',\n",
              " 'nginx',\n",
              " 'electron',\n",
              " 'microprocessor',\n",
              " 'apigee',\n",
              " 'optimizely',\n",
              " 'visualization',\n",
              " 'phantomjs',\n",
              " 'amplitude',\n",
              " 'composer',\n",
              " 'concourse',\n",
              " 'ecommerce',\n",
              " 'rancher',\n",
              " 'memcached',\n",
              " 'zookeeper',\n",
              " 'symfony',\n",
              " 'mariadb',\n",
              " 'vim',\n",
              " 'circleci',\n",
              " 'eclipse',\n",
              " 'chrome',\n",
              " 'jupyter',\n",
              " 'flutter',\n",
              " 'nativescript',\n",
              " 'slack',\n",
              " 'xcode',\n",
              " 'neo4j',\n",
              " 'activemq',\n",
              " 'devise',\n",
              " 'phaser',\n",
              " 'presto',\n",
              " 'diagram',\n",
              " 'drupal',\n",
              " 'design',\n",
              " 'bot',\n",
              " 'shopify',\n",
              " 'collaboration',\n",
              " 'uikit',\n",
              " 'trello',\n",
              " 'actuator',\n",
              " 'compiler',\n",
              " 'woocommerce',\n",
              " 'graphite',\n",
              " 'aerospike',\n",
              " 'varnish',\n",
              " 'mailgun',\n",
              " 'blockchain',\n",
              " 'opencv',\n",
              " 'redmine',\n",
              " 'localization',\n",
              " 'comprehension',\n",
              " 'shippable',\n",
              " 'enzyme',\n",
              " 'postgis',\n",
              " 'computation',\n",
              " 'opengl',\n",
              " 'asana',\n",
              " 'crashlytics',\n",
              " 'mapbox',\n",
              " 'scanner',\n",
              " 'solr',\n",
              " 'ubuntu',\n",
              " 'fedora',\n",
              " 'sequelize',\n",
              " 'software',\n",
              " 'java']"
            ]
          },
          "execution_count": 31,
          "metadata": {},
          "output_type": "execute_result"
        }
      ],
      "source": [
        "Skills"
      ]
    },
    {
      "cell_type": "code",
      "execution_count": null,
      "metadata": {
        "colab": {
          "base_uri": "https://localhost:8080/"
        },
        "id": "x9uyyfw8TYB-",
        "outputId": "9fb38147-f8ec-4040-a738-ef00ea8c1ad9"
      },
      "outputs": [
        {
          "data": {
            "text/plain": [
              "['hibernate',\n",
              " 'maven',\n",
              " 'bamboo',\n",
              " 'framework',\n",
              " 'python',\n",
              " 'mysql',\n",
              " 'oracle',\n",
              " 'celery',\n",
              " 'azure',\n",
              " 'grpc',\n",
              " 'docker',\n",
              " 'kubernetes',\n",
              " 'vault',\n",
              " 'database',\n",
              " 'github',\n",
              " 'ruby',\n",
              " 'javascript',\n",
              " 'algorithm',\n",
              " 'angular',\n",
              " 'meteor',\n",
              " 'ember',\n",
              " 'bootstrap',\n",
              " 'typescript',\n",
              " 'redux',\n",
              " 'heap',\n",
              " 'mongodb',\n",
              " 'jasmine',\n",
              " 'karma',\n",
              " 'protractor',\n",
              " 'junit',\n",
              " 'django',\n",
              " 'flask',\n",
              " 'tensorflow',\n",
              " 'deployment',\n",
              " 'queue',\n",
              " 'concurrency',\n",
              " 'specification',\n",
              " 'shell',\n",
              " 'git',\n",
              " 'xamarin',\n",
              " 'devops',\n",
              " 'sqlite',\n",
              " 'documentation',\n",
              " 'elasticsearch',\n",
              " 'numpy',\n",
              " 'pytorch',\n",
              " 'debugging',\n",
              " 'openshift',\n",
              " 'bitbucket',\n",
              " 'postgresql',\n",
              " 'linux',\n",
              " 'sinatra',\n",
              " 'beanstalk',\n",
              " 'rabbitmq',\n",
              " 'rspec',\n",
              " 'jest',\n",
              " 'elixir',\n",
              " 'graphql',\n",
              " 'prometheus',\n",
              " 'mocha',\n",
              " 'grafana',\n",
              " 'stackdriver',\n",
              " 'scalability',\n",
              " 'workflow',\n",
              " 'certificate',\n",
              " 'fastlane',\n",
              " 'analytics',\n",
              " 'lua',\n",
              " 'ansible',\n",
              " 'gulp',\n",
              " 'gradle',\n",
              " 'ethereum',\n",
              " 'webpack',\n",
              " 'schedule',\n",
              " 'bash',\n",
              " 'syntax',\n",
              " 'hbase',\n",
              " 'confluence',\n",
              " 'cucumber',\n",
              " 'airflow',\n",
              " 'groovy',\n",
              " 'gitlab',\n",
              " 'middleware',\n",
              " 'helm',\n",
              " 'datadog',\n",
              " 'selenium',\n",
              " 'npm',\n",
              " 'metadata',\n",
              " 'encryption',\n",
              " 'appium',\n",
              " 'firefox',\n",
              " 'rust',\n",
              " 'fluentd',\n",
              " 'throughput',\n",
              " 'durability',\n",
              " 'ambiguity',\n",
              " 'expressjs',\n",
              " 'istio',\n",
              " 'relay',\n",
              " 'gatsby',\n",
              " 'nuxt',\n",
              " 'angularui',\n",
              " 'vuex',\n",
              " 'flux',\n",
              " 'babel',\n",
              " 'heroku',\n",
              " 'workload',\n",
              " 'sonar',\n",
              " 'authentication',\n",
              " 'snowflake',\n",
              " 'nlp',\n",
              " 'macos',\n",
              " 'consul',\n",
              " 'perl',\n",
              " 'sonarqube',\n",
              " 'cryptography',\n",
              " 'twilio',\n",
              " 'markdown',\n",
              " 'cryptocurrency',\n",
              " 'postman',\n",
              " 'figma',\n",
              " 'invision',\n",
              " 'ajax',\n",
              " 'serverless',\n",
              " 'ethernet',\n",
              " 'simulation',\n",
              " 'qt',\n",
              " 'parcel',\n",
              " 'grunt',\n",
              " 'bower',\n",
              " 'nginx',\n",
              " 'electron',\n",
              " 'microprocessor',\n",
              " 'apigee',\n",
              " 'optimizely',\n",
              " 'visualization',\n",
              " 'phantomjs',\n",
              " 'amplitude',\n",
              " 'composer',\n",
              " 'concourse',\n",
              " 'ecommerce',\n",
              " 'rancher',\n",
              " 'memcached',\n",
              " 'zookeeper',\n",
              " 'symfony',\n",
              " 'mariadb',\n",
              " 'vim',\n",
              " 'circleci',\n",
              " 'eclipse',\n",
              " 'chrome',\n",
              " 'jupyter',\n",
              " 'flutter',\n",
              " 'nativescript',\n",
              " 'slack',\n",
              " 'xcode',\n",
              " 'neo4j',\n",
              " 'activemq',\n",
              " 'devise',\n",
              " 'phaser',\n",
              " 'presto',\n",
              " 'diagram',\n",
              " 'drupal',\n",
              " 'design',\n",
              " 'bot',\n",
              " 'shopify',\n",
              " 'collaboration',\n",
              " 'uikit',\n",
              " 'trello',\n",
              " 'actuator',\n",
              " 'compiler',\n",
              " 'woocommerce',\n",
              " 'graphite',\n",
              " 'aerospike',\n",
              " 'varnish',\n",
              " 'mailgun',\n",
              " 'blockchain',\n",
              " 'opencv',\n",
              " 'redmine',\n",
              " 'localization',\n",
              " 'comprehension',\n",
              " 'shippable',\n",
              " 'enzyme',\n",
              " 'postgis',\n",
              " 'computation',\n",
              " 'opengl',\n",
              " 'asana',\n",
              " 'crashlytics',\n",
              " 'mapbox',\n",
              " 'scanner',\n",
              " 'solr',\n",
              " 'ubuntu',\n",
              " 'fedora',\n",
              " 'sequelize',\n",
              " 'software',\n",
              " 'java']"
            ]
          },
          "execution_count": 169,
          "metadata": {},
          "output_type": "execute_result"
        }
      ],
      "source": [
        "Skills1"
      ]
    },
    {
      "cell_type": "code",
      "execution_count": null,
      "metadata": {
        "colab": {
          "base_uri": "https://localhost:8080/",
          "height": 676
        },
        "id": "QPfKAesnvkeI",
        "outputId": "ad0e6260-f079-4a20-fd04-1499ee3af10c"
      },
      "outputs": [
        {
          "data": {
            "text/html": [
              "\n",
              "  <div id=\"df-4b10a4b0-15a6-42df-a98d-bf5d4c64cbe3\">\n",
              "    <div class=\"colab-df-container\">\n",
              "      <div>\n",
              "<style scoped>\n",
              "    .dataframe tbody tr th:only-of-type {\n",
              "        vertical-align: middle;\n",
              "    }\n",
              "\n",
              "    .dataframe tbody tr th {\n",
              "        vertical-align: top;\n",
              "    }\n",
              "\n",
              "    .dataframe thead th {\n",
              "        text-align: right;\n",
              "    }\n",
              "</style>\n",
              "<table border=\"1\" class=\"dataframe\">\n",
              "  <thead>\n",
              "    <tr style=\"text-align: right;\">\n",
              "      <th></th>\n",
              "      <th>RAW DATA</th>\n",
              "      <th>Clean_Text</th>\n",
              "      <th>skills</th>\n",
              "    </tr>\n",
              "  </thead>\n",
              "  <tbody>\n",
              "    <tr>\n",
              "      <th>11</th>\n",
              "      <td>Hibernate</td>\n",
              "      <td>hibernate</td>\n",
              "      <td>[hibernate]</td>\n",
              "    </tr>\n",
              "    <tr>\n",
              "      <th>13</th>\n",
              "      <td>Hibernate</td>\n",
              "      <td>hibernate</td>\n",
              "      <td>[hibernate]</td>\n",
              "    </tr>\n",
              "    <tr>\n",
              "      <th>16</th>\n",
              "      <td>Maven</td>\n",
              "      <td>maven</td>\n",
              "      <td>[maven]</td>\n",
              "    </tr>\n",
              "    <tr>\n",
              "      <th>21</th>\n",
              "      <td>bamboo</td>\n",
              "      <td>bamboo</td>\n",
              "      <td>[bamboo]</td>\n",
              "    </tr>\n",
              "    <tr>\n",
              "      <th>23</th>\n",
              "      <td>frameworks</td>\n",
              "      <td>framework</td>\n",
              "      <td>[framework]</td>\n",
              "    </tr>\n",
              "    <tr>\n",
              "      <th>55</th>\n",
              "      <td>Python</td>\n",
              "      <td>python</td>\n",
              "      <td>[python]</td>\n",
              "    </tr>\n",
              "    <tr>\n",
              "      <th>62</th>\n",
              "      <td>MySQL</td>\n",
              "      <td>mysql</td>\n",
              "      <td>[mysql]</td>\n",
              "    </tr>\n",
              "    <tr>\n",
              "      <th>63</th>\n",
              "      <td>Oracle</td>\n",
              "      <td>oracle</td>\n",
              "      <td>[oracle]</td>\n",
              "    </tr>\n",
              "    <tr>\n",
              "      <th>70</th>\n",
              "      <td>Celery</td>\n",
              "      <td>celery</td>\n",
              "      <td>[celery]</td>\n",
              "    </tr>\n",
              "    <tr>\n",
              "      <th>77</th>\n",
              "      <td>Azure</td>\n",
              "      <td>azure</td>\n",
              "      <td>[azure]</td>\n",
              "    </tr>\n",
              "    <tr>\n",
              "      <th>89</th>\n",
              "      <td>grpc</td>\n",
              "      <td>grpc</td>\n",
              "      <td>[grpc]</td>\n",
              "    </tr>\n",
              "    <tr>\n",
              "      <th>92</th>\n",
              "      <td>docker</td>\n",
              "      <td>docker</td>\n",
              "      <td>[docker]</td>\n",
              "    </tr>\n",
              "    <tr>\n",
              "      <th>93</th>\n",
              "      <td>kubernetes</td>\n",
              "      <td>kubernetes</td>\n",
              "      <td>[kubernetes]</td>\n",
              "    </tr>\n",
              "    <tr>\n",
              "      <th>98</th>\n",
              "      <td>vault</td>\n",
              "      <td>vault</td>\n",
              "      <td>[vault]</td>\n",
              "    </tr>\n",
              "    <tr>\n",
              "      <th>101</th>\n",
              "      <td>databases</td>\n",
              "      <td>database</td>\n",
              "      <td>[database]</td>\n",
              "    </tr>\n",
              "    <tr>\n",
              "      <th>111</th>\n",
              "      <td>Github</td>\n",
              "      <td>github</td>\n",
              "      <td>[github]</td>\n",
              "    </tr>\n",
              "    <tr>\n",
              "      <th>117</th>\n",
              "      <td>Ruby</td>\n",
              "      <td>ruby</td>\n",
              "      <td>[ruby]</td>\n",
              "    </tr>\n",
              "    <tr>\n",
              "      <th>132</th>\n",
              "      <td>grpc</td>\n",
              "      <td>grpc</td>\n",
              "      <td>[grpc]</td>\n",
              "    </tr>\n",
              "    <tr>\n",
              "      <th>135</th>\n",
              "      <td>docker</td>\n",
              "      <td>docker</td>\n",
              "      <td>[docker]</td>\n",
              "    </tr>\n",
              "    <tr>\n",
              "      <th>136</th>\n",
              "      <td>kubernetes</td>\n",
              "      <td>kubernetes</td>\n",
              "      <td>[kubernetes]</td>\n",
              "    </tr>\n",
              "  </tbody>\n",
              "</table>\n",
              "</div>\n",
              "      <button class=\"colab-df-convert\" onclick=\"convertToInteractive('df-4b10a4b0-15a6-42df-a98d-bf5d4c64cbe3')\"\n",
              "              title=\"Convert this dataframe to an interactive table.\"\n",
              "              style=\"display:none;\">\n",
              "        \n",
              "  <svg xmlns=\"http://www.w3.org/2000/svg\" height=\"24px\"viewBox=\"0 0 24 24\"\n",
              "       width=\"24px\">\n",
              "    <path d=\"M0 0h24v24H0V0z\" fill=\"none\"/>\n",
              "    <path d=\"M18.56 5.44l.94 2.06.94-2.06 2.06-.94-2.06-.94-.94-2.06-.94 2.06-2.06.94zm-11 1L8.5 8.5l.94-2.06 2.06-.94-2.06-.94L8.5 2.5l-.94 2.06-2.06.94zm10 10l.94 2.06.94-2.06 2.06-.94-2.06-.94-.94-2.06-.94 2.06-2.06.94z\"/><path d=\"M17.41 7.96l-1.37-1.37c-.4-.4-.92-.59-1.43-.59-.52 0-1.04.2-1.43.59L10.3 9.45l-7.72 7.72c-.78.78-.78 2.05 0 2.83L4 21.41c.39.39.9.59 1.41.59.51 0 1.02-.2 1.41-.59l7.78-7.78 2.81-2.81c.8-.78.8-2.07 0-2.86zM5.41 20L4 18.59l7.72-7.72 1.47 1.35L5.41 20z\"/>\n",
              "  </svg>\n",
              "      </button>\n",
              "      \n",
              "  <style>\n",
              "    .colab-df-container {\n",
              "      display:flex;\n",
              "      flex-wrap:wrap;\n",
              "      gap: 12px;\n",
              "    }\n",
              "\n",
              "    .colab-df-convert {\n",
              "      background-color: #E8F0FE;\n",
              "      border: none;\n",
              "      border-radius: 50%;\n",
              "      cursor: pointer;\n",
              "      display: none;\n",
              "      fill: #1967D2;\n",
              "      height: 32px;\n",
              "      padding: 0 0 0 0;\n",
              "      width: 32px;\n",
              "    }\n",
              "\n",
              "    .colab-df-convert:hover {\n",
              "      background-color: #E2EBFA;\n",
              "      box-shadow: 0px 1px 2px rgba(60, 64, 67, 0.3), 0px 1px 3px 1px rgba(60, 64, 67, 0.15);\n",
              "      fill: #174EA6;\n",
              "    }\n",
              "\n",
              "    [theme=dark] .colab-df-convert {\n",
              "      background-color: #3B4455;\n",
              "      fill: #D2E3FC;\n",
              "    }\n",
              "\n",
              "    [theme=dark] .colab-df-convert:hover {\n",
              "      background-color: #434B5C;\n",
              "      box-shadow: 0px 1px 3px 1px rgba(0, 0, 0, 0.15);\n",
              "      filter: drop-shadow(0px 1px 2px rgba(0, 0, 0, 0.3));\n",
              "      fill: #FFFFFF;\n",
              "    }\n",
              "  </style>\n",
              "\n",
              "      <script>\n",
              "        const buttonEl =\n",
              "          document.querySelector('#df-4b10a4b0-15a6-42df-a98d-bf5d4c64cbe3 button.colab-df-convert');\n",
              "        buttonEl.style.display =\n",
              "          google.colab.kernel.accessAllowed ? 'block' : 'none';\n",
              "\n",
              "        async function convertToInteractive(key) {\n",
              "          const element = document.querySelector('#df-4b10a4b0-15a6-42df-a98d-bf5d4c64cbe3');\n",
              "          const dataTable =\n",
              "            await google.colab.kernel.invokeFunction('convertToInteractive',\n",
              "                                                     [key], {});\n",
              "          if (!dataTable) return;\n",
              "\n",
              "          const docLinkHtml = 'Like what you see? Visit the ' +\n",
              "            '<a target=\"_blank\" href=https://colab.research.google.com/notebooks/data_table.ipynb>data table notebook</a>'\n",
              "            + ' to learn more about interactive tables.';\n",
              "          element.innerHTML = '';\n",
              "          dataTable['output_type'] = 'display_data';\n",
              "          await google.colab.output.renderOutput(dataTable, element);\n",
              "          const docLink = document.createElement('div');\n",
              "          docLink.innerHTML = docLinkHtml;\n",
              "          element.appendChild(docLink);\n",
              "        }\n",
              "      </script>\n",
              "    </div>\n",
              "  </div>\n",
              "  "
            ],
            "text/plain": [
              "       RAW DATA  Clean_Text        skills\n",
              "11    Hibernate   hibernate   [hibernate]\n",
              "13    Hibernate   hibernate   [hibernate]\n",
              "16        Maven       maven       [maven]\n",
              "21       bamboo      bamboo      [bamboo]\n",
              "23   frameworks   framework   [framework]\n",
              "55       Python      python      [python]\n",
              "62        MySQL       mysql       [mysql]\n",
              "63       Oracle      oracle      [oracle]\n",
              "70       Celery      celery      [celery]\n",
              "77        Azure       azure       [azure]\n",
              "89         grpc        grpc        [grpc]\n",
              "92       docker      docker      [docker]\n",
              "93   kubernetes  kubernetes  [kubernetes]\n",
              "98        vault       vault       [vault]\n",
              "101   databases    database    [database]\n",
              "111      Github      github      [github]\n",
              "117        Ruby        ruby        [ruby]\n",
              "132        grpc        grpc        [grpc]\n",
              "135      docker      docker      [docker]\n",
              "136  kubernetes  kubernetes  [kubernetes]"
            ]
          },
          "execution_count": 154,
          "metadata": {},
          "output_type": "execute_result"
        }
      ],
      "source": [
        "df2.head(20)"
      ]
    }
  ],
  "metadata": {
    "colab": {
      "collapsed_sections": [],
      "name": "Copie de testDetect.ipynb",
      "provenance": []
    },
    "interpreter": {
      "hash": "1bc59388bddc5c21156d77de3b89e511d8a2470bbb6f1bb99bcedec0e2b776ea"
    },
    "kernelspec": {
      "display_name": "Python 3.9.9 64-bit",
      "language": "python",
      "name": "python3"
    },
    "language_info": {
      "codemirror_mode": {
        "name": "ipython",
        "version": 3
      },
      "file_extension": ".py",
      "mimetype": "text/x-python",
      "name": "python",
      "nbconvert_exporter": "python",
      "pygments_lexer": "ipython3",
      "version": "3.9.9"
    }
  },
  "nbformat": 4,
  "nbformat_minor": 0
}
